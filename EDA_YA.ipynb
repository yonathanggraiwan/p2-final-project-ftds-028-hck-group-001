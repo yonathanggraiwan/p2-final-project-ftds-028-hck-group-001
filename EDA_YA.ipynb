{
 "cells": [
  {
   "cell_type": "markdown",
   "id": "539e7c35",
   "metadata": {},
   "source": [
    "## Import Libraries"
   ]
  },
  {
   "cell_type": "code",
   "execution_count": 1,
   "id": "dbb7eadc",
   "metadata": {},
   "outputs": [],
   "source": [
    "import pandas as pd                                     # Manipulasi dan analisis data tabular\n",
    "import numpy as np                                      # Operasi numerik dan manipulasi array\n",
    "import seaborn as sns                                   # Visualisasi data berbasis statistik\n",
    "import matplotlib.pyplot as plt                         # Membuat grafik dan plot untuk analisis data\n",
    "import scipy.stats as stats                             # Fungsi statistik dan distribusi probabilitas\n",
    "import time                                             # Pengukuran dan manajemen waktu dalam program\n",
    "\n",
    "from scipy.stats import pearsonr                        # Menghitung korelasi Pearson antara dua variabel numerik"
   ]
  },
  {
   "cell_type": "markdown",
   "id": "da28f1ae",
   "metadata": {},
   "source": [
    "___\n",
    "## Load Dataset"
   ]
  },
  {
   "cell_type": "code",
   "execution_count": 65,
   "id": "6c90f7df",
   "metadata": {},
   "outputs": [],
   "source": [
    "data = pd.read_csv(\"dataset/P2_FinPro_Final_Record.csv\")"
   ]
  },
  {
   "cell_type": "code",
   "execution_count": 3,
   "id": "36dd2b25",
   "metadata": {},
   "outputs": [
    {
     "data": {
      "text/html": [
       "<div>\n",
       "<style scoped>\n",
       "    .dataframe tbody tr th:only-of-type {\n",
       "        vertical-align: middle;\n",
       "    }\n",
       "\n",
       "    .dataframe tbody tr th {\n",
       "        vertical-align: top;\n",
       "    }\n",
       "\n",
       "    .dataframe thead th {\n",
       "        text-align: right;\n",
       "    }\n",
       "</style>\n",
       "<table border=\"1\" class=\"dataframe\">\n",
       "  <thead>\n",
       "    <tr style=\"text-align: right;\">\n",
       "      <th></th>\n",
       "      <th>id</th>\n",
       "      <th>gender</th>\n",
       "      <th>car</th>\n",
       "      <th>realty</th>\n",
       "      <th>child_number</th>\n",
       "      <th>income</th>\n",
       "      <th>occupation</th>\n",
       "      <th>education</th>\n",
       "      <th>marital_status</th>\n",
       "      <th>house_type</th>\n",
       "      <th>...</th>\n",
       "      <th>mobile_phone</th>\n",
       "      <th>work_phone</th>\n",
       "      <th>phone</th>\n",
       "      <th>email</th>\n",
       "      <th>family_size</th>\n",
       "      <th>months_balance</th>\n",
       "      <th>status</th>\n",
       "      <th>begin_month</th>\n",
       "      <th>credit_approval</th>\n",
       "      <th>target</th>\n",
       "    </tr>\n",
       "  </thead>\n",
       "  <tbody>\n",
       "    <tr>\n",
       "      <th>0</th>\n",
       "      <td>5008804</td>\n",
       "      <td>M</td>\n",
       "      <td>Y</td>\n",
       "      <td>Y</td>\n",
       "      <td>0</td>\n",
       "      <td>427500.0</td>\n",
       "      <td>Working</td>\n",
       "      <td>Higher education</td>\n",
       "      <td>Civil marriage</td>\n",
       "      <td>Rented apartment</td>\n",
       "      <td>...</td>\n",
       "      <td>1</td>\n",
       "      <td>1</td>\n",
       "      <td>0</td>\n",
       "      <td>0</td>\n",
       "      <td>2.0</td>\n",
       "      <td>0</td>\n",
       "      <td>C</td>\n",
       "      <td>-15</td>\n",
       "      <td>No</td>\n",
       "      <td>1</td>\n",
       "    </tr>\n",
       "    <tr>\n",
       "      <th>1</th>\n",
       "      <td>5008804</td>\n",
       "      <td>M</td>\n",
       "      <td>Y</td>\n",
       "      <td>Y</td>\n",
       "      <td>0</td>\n",
       "      <td>427500.0</td>\n",
       "      <td>Working</td>\n",
       "      <td>Higher education</td>\n",
       "      <td>Civil marriage</td>\n",
       "      <td>Rented apartment</td>\n",
       "      <td>...</td>\n",
       "      <td>1</td>\n",
       "      <td>1</td>\n",
       "      <td>0</td>\n",
       "      <td>0</td>\n",
       "      <td>2.0</td>\n",
       "      <td>-1</td>\n",
       "      <td>C</td>\n",
       "      <td>-15</td>\n",
       "      <td>No</td>\n",
       "      <td>1</td>\n",
       "    </tr>\n",
       "    <tr>\n",
       "      <th>2</th>\n",
       "      <td>5008804</td>\n",
       "      <td>M</td>\n",
       "      <td>Y</td>\n",
       "      <td>Y</td>\n",
       "      <td>0</td>\n",
       "      <td>427500.0</td>\n",
       "      <td>Working</td>\n",
       "      <td>Higher education</td>\n",
       "      <td>Civil marriage</td>\n",
       "      <td>Rented apartment</td>\n",
       "      <td>...</td>\n",
       "      <td>1</td>\n",
       "      <td>1</td>\n",
       "      <td>0</td>\n",
       "      <td>0</td>\n",
       "      <td>2.0</td>\n",
       "      <td>-2</td>\n",
       "      <td>C</td>\n",
       "      <td>-15</td>\n",
       "      <td>No</td>\n",
       "      <td>1</td>\n",
       "    </tr>\n",
       "    <tr>\n",
       "      <th>3</th>\n",
       "      <td>5008804</td>\n",
       "      <td>M</td>\n",
       "      <td>Y</td>\n",
       "      <td>Y</td>\n",
       "      <td>0</td>\n",
       "      <td>427500.0</td>\n",
       "      <td>Working</td>\n",
       "      <td>Higher education</td>\n",
       "      <td>Civil marriage</td>\n",
       "      <td>Rented apartment</td>\n",
       "      <td>...</td>\n",
       "      <td>1</td>\n",
       "      <td>1</td>\n",
       "      <td>0</td>\n",
       "      <td>0</td>\n",
       "      <td>2.0</td>\n",
       "      <td>-3</td>\n",
       "      <td>C</td>\n",
       "      <td>-15</td>\n",
       "      <td>No</td>\n",
       "      <td>1</td>\n",
       "    </tr>\n",
       "    <tr>\n",
       "      <th>4</th>\n",
       "      <td>5008804</td>\n",
       "      <td>M</td>\n",
       "      <td>Y</td>\n",
       "      <td>Y</td>\n",
       "      <td>0</td>\n",
       "      <td>427500.0</td>\n",
       "      <td>Working</td>\n",
       "      <td>Higher education</td>\n",
       "      <td>Civil marriage</td>\n",
       "      <td>Rented apartment</td>\n",
       "      <td>...</td>\n",
       "      <td>1</td>\n",
       "      <td>1</td>\n",
       "      <td>0</td>\n",
       "      <td>0</td>\n",
       "      <td>2.0</td>\n",
       "      <td>-4</td>\n",
       "      <td>C</td>\n",
       "      <td>-15</td>\n",
       "      <td>No</td>\n",
       "      <td>1</td>\n",
       "    </tr>\n",
       "    <tr>\n",
       "      <th>...</th>\n",
       "      <td>...</td>\n",
       "      <td>...</td>\n",
       "      <td>...</td>\n",
       "      <td>...</td>\n",
       "      <td>...</td>\n",
       "      <td>...</td>\n",
       "      <td>...</td>\n",
       "      <td>...</td>\n",
       "      <td>...</td>\n",
       "      <td>...</td>\n",
       "      <td>...</td>\n",
       "      <td>...</td>\n",
       "      <td>...</td>\n",
       "      <td>...</td>\n",
       "      <td>...</td>\n",
       "      <td>...</td>\n",
       "      <td>...</td>\n",
       "      <td>...</td>\n",
       "      <td>...</td>\n",
       "      <td>...</td>\n",
       "      <td>...</td>\n",
       "    </tr>\n",
       "    <tr>\n",
       "      <th>777710</th>\n",
       "      <td>5150337</td>\n",
       "      <td>M</td>\n",
       "      <td>N</td>\n",
       "      <td>Y</td>\n",
       "      <td>0</td>\n",
       "      <td>112500.0</td>\n",
       "      <td>Working</td>\n",
       "      <td>Secondary / secondary special</td>\n",
       "      <td>Single / not married</td>\n",
       "      <td>Rented apartment</td>\n",
       "      <td>...</td>\n",
       "      <td>1</td>\n",
       "      <td>0</td>\n",
       "      <td>0</td>\n",
       "      <td>0</td>\n",
       "      <td>1.0</td>\n",
       "      <td>-9</td>\n",
       "      <td>0</td>\n",
       "      <td>-13</td>\n",
       "      <td>No</td>\n",
       "      <td>1</td>\n",
       "    </tr>\n",
       "    <tr>\n",
       "      <th>777711</th>\n",
       "      <td>5150337</td>\n",
       "      <td>M</td>\n",
       "      <td>N</td>\n",
       "      <td>Y</td>\n",
       "      <td>0</td>\n",
       "      <td>112500.0</td>\n",
       "      <td>Working</td>\n",
       "      <td>Secondary / secondary special</td>\n",
       "      <td>Single / not married</td>\n",
       "      <td>Rented apartment</td>\n",
       "      <td>...</td>\n",
       "      <td>1</td>\n",
       "      <td>0</td>\n",
       "      <td>0</td>\n",
       "      <td>0</td>\n",
       "      <td>1.0</td>\n",
       "      <td>-10</td>\n",
       "      <td>2</td>\n",
       "      <td>-13</td>\n",
       "      <td>No</td>\n",
       "      <td>1</td>\n",
       "    </tr>\n",
       "    <tr>\n",
       "      <th>777712</th>\n",
       "      <td>5150337</td>\n",
       "      <td>M</td>\n",
       "      <td>N</td>\n",
       "      <td>Y</td>\n",
       "      <td>0</td>\n",
       "      <td>112500.0</td>\n",
       "      <td>Working</td>\n",
       "      <td>Secondary / secondary special</td>\n",
       "      <td>Single / not married</td>\n",
       "      <td>Rented apartment</td>\n",
       "      <td>...</td>\n",
       "      <td>1</td>\n",
       "      <td>0</td>\n",
       "      <td>0</td>\n",
       "      <td>0</td>\n",
       "      <td>1.0</td>\n",
       "      <td>-11</td>\n",
       "      <td>1</td>\n",
       "      <td>-13</td>\n",
       "      <td>No</td>\n",
       "      <td>1</td>\n",
       "    </tr>\n",
       "    <tr>\n",
       "      <th>777713</th>\n",
       "      <td>5150337</td>\n",
       "      <td>M</td>\n",
       "      <td>N</td>\n",
       "      <td>Y</td>\n",
       "      <td>0</td>\n",
       "      <td>112500.0</td>\n",
       "      <td>Working</td>\n",
       "      <td>Secondary / secondary special</td>\n",
       "      <td>Single / not married</td>\n",
       "      <td>Rented apartment</td>\n",
       "      <td>...</td>\n",
       "      <td>1</td>\n",
       "      <td>0</td>\n",
       "      <td>0</td>\n",
       "      <td>0</td>\n",
       "      <td>1.0</td>\n",
       "      <td>-12</td>\n",
       "      <td>0</td>\n",
       "      <td>-13</td>\n",
       "      <td>No</td>\n",
       "      <td>1</td>\n",
       "    </tr>\n",
       "    <tr>\n",
       "      <th>777714</th>\n",
       "      <td>5150337</td>\n",
       "      <td>M</td>\n",
       "      <td>N</td>\n",
       "      <td>Y</td>\n",
       "      <td>0</td>\n",
       "      <td>112500.0</td>\n",
       "      <td>Working</td>\n",
       "      <td>Secondary / secondary special</td>\n",
       "      <td>Single / not married</td>\n",
       "      <td>Rented apartment</td>\n",
       "      <td>...</td>\n",
       "      <td>1</td>\n",
       "      <td>0</td>\n",
       "      <td>0</td>\n",
       "      <td>0</td>\n",
       "      <td>1.0</td>\n",
       "      <td>-13</td>\n",
       "      <td>0</td>\n",
       "      <td>-13</td>\n",
       "      <td>No</td>\n",
       "      <td>1</td>\n",
       "    </tr>\n",
       "  </tbody>\n",
       "</table>\n",
       "<p>777715 rows × 22 columns</p>\n",
       "</div>"
      ],
      "text/plain": [
       "             id gender car realty  child_number    income occupation  \\\n",
       "0       5008804      M   Y      Y             0  427500.0    Working   \n",
       "1       5008804      M   Y      Y             0  427500.0    Working   \n",
       "2       5008804      M   Y      Y             0  427500.0    Working   \n",
       "3       5008804      M   Y      Y             0  427500.0    Working   \n",
       "4       5008804      M   Y      Y             0  427500.0    Working   \n",
       "...         ...    ...  ..    ...           ...       ...        ...   \n",
       "777710  5150337      M   N      Y             0  112500.0    Working   \n",
       "777711  5150337      M   N      Y             0  112500.0    Working   \n",
       "777712  5150337      M   N      Y             0  112500.0    Working   \n",
       "777713  5150337      M   N      Y             0  112500.0    Working   \n",
       "777714  5150337      M   N      Y             0  112500.0    Working   \n",
       "\n",
       "                            education        marital_status        house_type  \\\n",
       "0                    Higher education        Civil marriage  Rented apartment   \n",
       "1                    Higher education        Civil marriage  Rented apartment   \n",
       "2                    Higher education        Civil marriage  Rented apartment   \n",
       "3                    Higher education        Civil marriage  Rented apartment   \n",
       "4                    Higher education        Civil marriage  Rented apartment   \n",
       "...                               ...                   ...               ...   \n",
       "777710  Secondary / secondary special  Single / not married  Rented apartment   \n",
       "777711  Secondary / secondary special  Single / not married  Rented apartment   \n",
       "777712  Secondary / secondary special  Single / not married  Rented apartment   \n",
       "777713  Secondary / secondary special  Single / not married  Rented apartment   \n",
       "777714  Secondary / secondary special  Single / not married  Rented apartment   \n",
       "\n",
       "        ...  mobile_phone  work_phone  phone  email  family_size  \\\n",
       "0       ...             1           1      0      0          2.0   \n",
       "1       ...             1           1      0      0          2.0   \n",
       "2       ...             1           1      0      0          2.0   \n",
       "3       ...             1           1      0      0          2.0   \n",
       "4       ...             1           1      0      0          2.0   \n",
       "...     ...           ...         ...    ...    ...          ...   \n",
       "777710  ...             1           0      0      0          1.0   \n",
       "777711  ...             1           0      0      0          1.0   \n",
       "777712  ...             1           0      0      0          1.0   \n",
       "777713  ...             1           0      0      0          1.0   \n",
       "777714  ...             1           0      0      0          1.0   \n",
       "\n",
       "        months_balance  status  begin_month credit_approval  target  \n",
       "0                    0       C          -15              No       1  \n",
       "1                   -1       C          -15              No       1  \n",
       "2                   -2       C          -15              No       1  \n",
       "3                   -3       C          -15              No       1  \n",
       "4                   -4       C          -15              No       1  \n",
       "...                ...     ...          ...             ...     ...  \n",
       "777710              -9       0          -13              No       1  \n",
       "777711             -10       2          -13              No       1  \n",
       "777712             -11       1          -13              No       1  \n",
       "777713             -12       0          -13              No       1  \n",
       "777714             -13       0          -13              No       1  \n",
       "\n",
       "[777715 rows x 22 columns]"
      ]
     },
     "execution_count": 3,
     "metadata": {},
     "output_type": "execute_result"
    }
   ],
   "source": [
    "data"
   ]
  },
  {
   "cell_type": "code",
   "execution_count": 5,
   "id": "4140730e",
   "metadata": {},
   "outputs": [
    {
     "name": "stdout",
     "output_type": "stream",
     "text": [
      "Unique values in gender: ['M' 'F']\n",
      "Unique values in car: ['Y' 'N']\n",
      "Unique values in realty: ['Y' 'N']\n",
      "Unique values in occupation: ['Working' 'Commercial associate' 'Pensioner' 'State servant' 'Student']\n",
      "Unique values in education: ['Higher education' 'Secondary / secondary special' 'Incomplete higher'\n",
      " 'Lower secondary' 'Academic degree']\n",
      "Unique values in marital_status: ['Civil marriage' 'Married' 'Single / not married' 'Separated' 'Widow']\n",
      "Unique values in house_type: ['Rented apartment' 'House / apartment' 'Municipal apartment'\n",
      " 'With parents' 'Co-op apartment' 'Office apartment']\n",
      "Unique values in status: ['C' '1' '0' 'X' '5' '4' '3' '2']\n",
      "Unique values in credit_approval: ['No' 'Yes']\n"
     ]
    }
   ],
   "source": [
    "categorical_columns = ['gender',\n",
    "                       'car',\n",
    "                       'realty',\n",
    "                       'occupation',\n",
    "                       'education',\n",
    "                       'marital_status',\n",
    "                       'house_type',\n",
    "                       'status',\n",
    "                       'credit_approval']\n",
    "\n",
    "for column in categorical_columns:\n",
    "    unique_values = data[column].unique()\n",
    "    print(f\"Unique values in {column}: {unique_values}\")"
   ]
  },
  {
   "cell_type": "code",
   "execution_count": 6,
   "id": "0d0ad5f9",
   "metadata": {},
   "outputs": [
    {
     "data": {
      "text/plain": [
       "target\n",
       "0    668145\n",
       "1    109570\n",
       "Name: count, dtype: int64"
      ]
     },
     "execution_count": 6,
     "metadata": {},
     "output_type": "execute_result"
    }
   ],
   "source": [
    "data['target'].value_counts()"
   ]
  },
  {
   "cell_type": "code",
   "execution_count": 7,
   "id": "7a303df0",
   "metadata": {},
   "outputs": [
    {
     "data": {
      "text/plain": [
       "credit_approval\n",
       "Yes    668145\n",
       "No     109570\n",
       "Name: count, dtype: int64"
      ]
     },
     "execution_count": 7,
     "metadata": {},
     "output_type": "execute_result"
    }
   ],
   "source": [
    "data['credit_approval'].value_counts()"
   ]
  },
  {
   "cell_type": "code",
   "execution_count": 16,
   "id": "8cade2c3",
   "metadata": {},
   "outputs": [
    {
     "name": "stdout",
     "output_type": "stream",
     "text": [
      "<class 'pandas.core.frame.DataFrame'>\n",
      "RangeIndex: 777715 entries, 0 to 777714\n",
      "Data columns (total 22 columns):\n",
      " #   Column           Non-Null Count   Dtype  \n",
      "---  ------           --------------   -----  \n",
      " 0   id               777715 non-null  int64  \n",
      " 1   gender           777715 non-null  object \n",
      " 2   car              777715 non-null  object \n",
      " 3   realty           777715 non-null  object \n",
      " 4   child_number     777715 non-null  int64  \n",
      " 5   income           777715 non-null  float64\n",
      " 6   occupation       777715 non-null  object \n",
      " 7   education        777715 non-null  object \n",
      " 8   marital_status   777715 non-null  object \n",
      " 9   house_type       777715 non-null  object \n",
      " 10  days_birth       777715 non-null  int64  \n",
      " 11  days_employed    777715 non-null  int64  \n",
      " 12  mobile_phone     777715 non-null  int64  \n",
      " 13  work_phone       777715 non-null  int64  \n",
      " 14  phone            777715 non-null  int64  \n",
      " 15  email            777715 non-null  int64  \n",
      " 16  family_size      777715 non-null  float64\n",
      " 17  months_balance   777715 non-null  int64  \n",
      " 18  status           777715 non-null  object \n",
      " 19  begin_month      777715 non-null  int64  \n",
      " 20  credit_approval  777715 non-null  object \n",
      " 21  target           777715 non-null  int64  \n",
      "dtypes: float64(2), int64(11), object(9)\n",
      "memory usage: 130.5+ MB\n"
     ]
    }
   ],
   "source": [
    "data.info()"
   ]
  },
  {
   "cell_type": "markdown",
   "id": "39b1c47a",
   "metadata": {},
   "source": [
    "___"
   ]
  },
  {
   "cell_type": "markdown",
   "id": "d9295751",
   "metadata": {},
   "source": [
    "## EDA 4. Employment & Occupation"
   ]
  },
  {
   "cell_type": "markdown",
   "id": "01e8fbd4",
   "metadata": {},
   "source": [
    "### EDA 4.1 Are Applicants From Certain Occupations More Likely To Default?"
   ]
  },
  {
   "cell_type": "code",
   "execution_count": 10,
   "id": "dc601a45",
   "metadata": {},
   "outputs": [
    {
     "data": {
      "text/plain": [
       "Text(0, 0.5, 'Count')"
      ]
     },
     "execution_count": 10,
     "metadata": {},
     "output_type": "execute_result"
    },
    {
     "data": {
      "image/png": "[encoded data removed]",
      "text/plain": [
       "<Figure size 1000x600 with 1 Axes>"
      ]
     },
     "metadata": {},
     "output_type": "display_data"
    }
   ],
   "source": [
    "plt.figure(figsize=(10,6))\n",
    "sns.countplot(data=data, x='occupation', hue='credit_approval')\n",
    "plt.title('Credit Approval by Occupation')\n",
    "plt.xlabel('Occupation')\n",
    "plt.ylabel('Count')"
   ]
  },
  {
   "cell_type": "markdown",
   "id": "085ed791",
   "metadata": {},
   "source": [
    "Insight:\n",
    "\n",
    "................."
   ]
  },
  {
   "cell_type": "markdown",
   "id": "212ec1af",
   "metadata": {},
   "source": [
    "___\n",
    "### EDA 4.2 Is There a Relationship Between 'years_employed' and 'income' or 'target'?"
   ]
  },
  {
   "cell_type": "code",
   "execution_count": 22,
   "id": "f9e17a78",
   "metadata": {},
   "outputs": [],
   "source": [
    "# Konversi days_employed ke years_employed\n",
    "data['years_employed'] = -(data['days_employed'] / 365)\n",
    "\n",
    "# Pastikan credit_approval sudah jadi numerik\n",
    "data['credit_approval'] = data['credit_approval'].map({'Yes': 1, 'No': 0})"
   ]
  },
  {
   "cell_type": "code",
   "execution_count": 23,
   "id": "9adf1b5b",
   "metadata": {},
   "outputs": [
    {
     "data": {
      "image/png": "[encoded data removed]",
      "text/plain": [
       "<Figure size 800x600 with 1 Axes>"
      ]
     },
     "metadata": {},
     "output_type": "display_data"
    }
   ],
   "source": [
    "plt.figure(figsize=(8, 6))\n",
    "sns.regplot(data=data, x='years_employed', y='income', scatter_kws={'alpha':0.5}, line_kws={'color':'red'})\n",
    "plt.title('Income vs Years Employed')\n",
    "plt.xlabel('Years Employed')\n",
    "plt.ylabel('Income')\n",
    "plt.grid(True)"
   ]
  },
  {
   "cell_type": "markdown",
   "id": "00d245dd",
   "metadata": {},
   "source": [
    "Insight:\n",
    "\n",
    "No relationship."
   ]
  },
  {
   "cell_type": "code",
   "execution_count": 24,
   "id": "60c6ce87",
   "metadata": {},
   "outputs": [
    {
     "data": {
      "image/png": "[encoded data removed]",
      "text/plain": [
       "<Figure size 800x600 with 1 Axes>"
      ]
     },
     "metadata": {},
     "output_type": "display_data"
    }
   ],
   "source": [
    "plt.figure(figsize=(8, 6))\n",
    "sns.regplot(data=data, x='years_employed', y='credit_approval', logistic=False, scatter_kws={'alpha':0.4}, line_kws={'color':'blue'})\n",
    "plt.title('Credit Approval vs Years Employed')\n",
    "plt.xlabel('Years Employed')\n",
    "plt.ylabel('Approval Probability')\n",
    "plt.grid(True)"
   ]
  },
  {
   "cell_type": "markdown",
   "id": "3ed72c9d",
   "metadata": {},
   "source": [
    "Insight:\n",
    "\n",
    "No relationship."
   ]
  },
  {
   "cell_type": "markdown",
   "id": "d7abaa3d",
   "metadata": {},
   "source": [
    "___\n",
    "## EDA 5. Contactability & Data Completeness"
   ]
  },
  {
   "cell_type": "markdown",
   "id": "aca8ff13",
   "metadata": {},
   "source": [
    "### EDA 5.1 How Many Customers Provide a Mobile Phone, Work Phone, or Email?"
   ]
  },
  {
   "cell_type": "code",
   "execution_count": 28,
   "id": "a4f39842",
   "metadata": {},
   "outputs": [
    {
     "data": {
      "image/png": "[encoded data removed]",
      "text/plain": [
       "<Figure size 600x600 with 1 Axes>"
      ]
     },
     "metadata": {},
     "output_type": "display_data"
    }
   ],
   "source": [
    "contact_cols = ['email', 'work_phone', 'mobile_phone']\n",
    "data[contact_cols] = data[contact_cols].notnull().astype(int)  # asumsikan null = tidak tersedia\n",
    "contact_counts = data[contact_cols].sum()\n",
    "\n",
    "# Buat label lengkap dengan jumlah\n",
    "labels = [f\"{idx} - {int(val)} pelanggan\" for idx, val in contact_counts.items()]\n",
    "\n",
    "# Plot pie chart\n",
    "plt.figure(figsize=(6,6))\n",
    "plt.pie(contact_counts, labels=labels, autopct='%1.1f%%', colors=['lightgreen', 'lightblue', 'salmon'])\n",
    "plt.title('Jumlah Pelanggan dengan Kontak Tersedia')\n",
    "plt.show()"
   ]
  },
  {
   "cell_type": "markdown",
   "id": "6ff1ed19",
   "metadata": {},
   "source": [
    "Insight:\n",
    "\n",
    "...."
   ]
  },
  {
   "cell_type": "markdown",
   "id": "1e270a62",
   "metadata": {},
   "source": [
    "___\n",
    "## EDA 6. Financial Behavior & Transaction History"
   ]
  },
  {
   "cell_type": "markdown",
   "id": "66802cf5",
   "metadata": {},
   "source": [
    "### EDA 6.1 What is the distribution of months_balance (if it refers to account history)?"
   ]
  },
  {
   "cell_type": "code",
   "execution_count": 35,
   "id": "329ccd68",
   "metadata": {},
   "outputs": [
    {
     "data": {
      "image/png": "[encoded data removed]",
      "text/plain": [
       "<Figure size 640x480 with 1 Axes>"
      ]
     },
     "metadata": {},
     "output_type": "display_data"
    }
   ],
   "source": [
    "sns.histplot(data=data, x='months_balance', bins=50, color='steelblue')\n",
    "plt.title('Distribution of Months Balance')\n",
    "plt.xlabel('Months Balance')\n",
    "plt.ylabel('Frequency')\n",
    "plt.show()"
   ]
  },
  {
   "cell_type": "markdown",
   "id": "a906e3fc",
   "metadata": {},
   "source": [
    "Insight:\n",
    "\n",
    "......."
   ]
  },
  {
   "cell_type": "markdown",
   "id": "4d85d97c",
   "metadata": {},
   "source": [
    "___\n",
    "### EDA 6.2 Does begin_month provide insight into credit recency or tenure? / Does begin_months have an impact for credit_approval"
   ]
  },
  {
   "cell_type": "code",
   "execution_count": 45,
   "id": "a5657a11",
   "metadata": {},
   "outputs": [
    {
     "data": {
      "image/png": "[encoded data removed]",
      "text/plain": [
       "<Figure size 800x600 with 1 Axes>"
      ]
     },
     "metadata": {},
     "output_type": "display_data"
    }
   ],
   "source": [
    "# Buat salinan lokal credit_approval agar tidak mengubah data aslinya\n",
    "mapped_approval = data['credit_approval'].map({'Yes': 1, 'No': 0})\n",
    "\n",
    "# Plot boxplot menggunakan mapped_approval\n",
    "plt.figure(figsize=(8, 6))\n",
    "sns.boxplot(x=mapped_approval, y=data['begin_month'])\n",
    "plt.title('Begin Month vs Credit Approval')\n",
    "plt.xlabel('Credit Approval (0 = Approved, 1 = Rejected)')\n",
    "plt.ylabel('Begin Month')\n",
    "plt.grid(True)\n",
    "plt.tight_layout()\n",
    "plt.show()\n"
   ]
  },
  {
   "cell_type": "markdown",
   "id": "caf72118",
   "metadata": {},
   "source": [
    "Insight:\n",
    "\n",
    "No relationship / impact."
   ]
  },
  {
   "cell_type": "markdown",
   "id": "2bc5fc0d",
   "metadata": {},
   "source": [
    "___\n",
    "## EDA 6.3 Do longer account histories correlate with approval or reduced risk?"
   ]
  },
  {
   "cell_type": "code",
   "execution_count": 49,
   "id": "b9c443e7",
   "metadata": {},
   "outputs": [
    {
     "data": {
      "image/png": "[encoded data removed]",
      "text/plain": [
       "<Figure size 800x600 with 1 Axes>"
      ]
     },
     "metadata": {},
     "output_type": "display_data"
    }
   ],
   "source": [
    "account_length = data.groupby('id')['months_balance'].count().reset_index()\n",
    "account_length.columns = ['id', 'account_history_length']\n",
    "\n",
    "# Mapping credit_approval to numeric without changing original data\n",
    "approval_mapped = data[['id', 'credit_approval']].copy()\n",
    "approval_mapped['credit_approval'] = approval_mapped['credit_approval'].map({'Yes': 1, 'No': 0})\n",
    "\n",
    "# Merge account length with mapped approval\n",
    "merged = account_length.merge(approval_mapped, on='id')\n",
    "\n",
    "# Plot regplot\n",
    "plt.figure(figsize=(8, 6))\n",
    "sns.regplot(data=merged, x='account_history_length', y='credit_approval', scatter_kws={'alpha':0.3})\n",
    "plt.title('Account History Length vs Credit Approval')\n",
    "plt.xlabel('Length of Account History')\n",
    "plt.ylabel('Approval Probability (0 = Approved, 1 = Rejected)')\n",
    "plt.grid(True)\n",
    "plt.tight_layout()\n",
    "plt.show()\n"
   ]
  },
  {
   "cell_type": "markdown",
   "id": "fd55c996",
   "metadata": {},
   "source": [
    "Insight:\n",
    "\n",
    "No relationship."
   ]
  },
  {
   "cell_type": "markdown",
   "id": "dc5db47a",
   "metadata": {},
   "source": [
    "___\n",
    "## EDA 7. Anomalies & Outliers"
   ]
  },
  {
   "cell_type": "markdown",
   "id": "81061d36",
   "metadata": {},
   "source": [
    "### EDA 7.1"
   ]
  },
  {
   "cell_type": "code",
   "execution_count": 53,
   "id": "f9078955",
   "metadata": {},
   "outputs": [
    {
     "data": {
      "image/png": "[encoded data removed]",
      "text/plain": [
       "<Figure size 600x400 with 1 Axes>"
      ]
     },
     "metadata": {},
     "output_type": "display_data"
    },
    {
     "data": {
      "image/png": "[encoded data removed]",
      "text/plain": [
       "<Figure size 600x400 with 1 Axes>"
      ]
     },
     "metadata": {},
     "output_type": "display_data"
    },
    {
     "data": {
      "image/png": "[encoded data removed]",
      "text/plain": [
       "<Figure size 600x400 with 1 Axes>"
      ]
     },
     "metadata": {},
     "output_type": "display_data"
    }
   ],
   "source": [
    "features = ['child_number', 'income', 'family_size']\n",
    "\n",
    "for feature in features:\n",
    "    plt.figure(figsize=(6, 4))\n",
    "    sns.boxplot(y=data[feature])\n",
    "    plt.title(f'Boxplot of {feature}')\n",
    "    plt.xlabel(feature)\n",
    "    plt.grid(True)\n",
    "    plt.show()\n"
   ]
  },
  {
   "cell_type": "markdown",
   "id": "2d939445",
   "metadata": {},
   "source": [
    "Insight:\n",
    "\n",
    "......."
   ]
  },
  {
   "cell_type": "markdown",
   "id": "4df862a3",
   "metadata": {},
   "source": [
    "___\n",
    "### EDA 7.2 Do extreme income values skew the distribution? Should they be capped or log-transformed?"
   ]
  },
  {
   "cell_type": "code",
   "execution_count": 60,
   "id": "c3c0978b",
   "metadata": {},
   "outputs": [
    {
     "name": "stdout",
     "output_type": "stream",
     "text": [
      "Skewness of income: 2.5776\n"
     ]
    }
   ],
   "source": [
    "from scipy.stats import skew\n",
    "\n",
    "income_skew = skew(data['income'].dropna())\n",
    "print(f\"Skewness of income: {income_skew:.4f}\")"
   ]
  },
  {
   "cell_type": "markdown",
   "id": "96d53151",
   "metadata": {},
   "source": [
    "Yes, it's very skewed, but we’re not applying any data capping because those values represent the customers themselves."
   ]
  },
  {
   "cell_type": "markdown",
   "id": "e8a3cd54",
   "metadata": {},
   "source": [
    "___\n",
    "## EDA 8. Relationships Between Variables"
   ]
  },
  {
   "cell_type": "markdown",
   "id": "b076f1e3",
   "metadata": {},
   "source": [
    "### EDA 8.1 Which variables are most strongly correlated with the target or credit approval?"
   ]
  },
  {
   "cell_type": "code",
   "execution_count": 67,
   "id": "c8eaac51",
   "metadata": {},
   "outputs": [
    {
     "data": {
      "text/html": [
       "<div>\n",
       "<style scoped>\n",
       "    .dataframe tbody tr th:only-of-type {\n",
       "        vertical-align: middle;\n",
       "    }\n",
       "\n",
       "    .dataframe tbody tr th {\n",
       "        vertical-align: top;\n",
       "    }\n",
       "\n",
       "    .dataframe thead th {\n",
       "        text-align: right;\n",
       "    }\n",
       "</style>\n",
       "<table border=\"1\" class=\"dataframe\">\n",
       "  <thead>\n",
       "    <tr style=\"text-align: right;\">\n",
       "      <th></th>\n",
       "      <th>id</th>\n",
       "      <th>gender</th>\n",
       "      <th>car</th>\n",
       "      <th>realty</th>\n",
       "      <th>child_number</th>\n",
       "      <th>income</th>\n",
       "      <th>occupation</th>\n",
       "      <th>education</th>\n",
       "      <th>marital_status</th>\n",
       "      <th>house_type</th>\n",
       "      <th>...</th>\n",
       "      <th>mobile_phone</th>\n",
       "      <th>work_phone</th>\n",
       "      <th>phone</th>\n",
       "      <th>email</th>\n",
       "      <th>family_size</th>\n",
       "      <th>months_balance</th>\n",
       "      <th>status</th>\n",
       "      <th>begin_month</th>\n",
       "      <th>credit_approval</th>\n",
       "      <th>target</th>\n",
       "    </tr>\n",
       "  </thead>\n",
       "  <tbody>\n",
       "    <tr>\n",
       "      <th>0</th>\n",
       "      <td>5008804</td>\n",
       "      <td>M</td>\n",
       "      <td>Y</td>\n",
       "      <td>Y</td>\n",
       "      <td>0</td>\n",
       "      <td>427500.0</td>\n",
       "      <td>Working</td>\n",
       "      <td>Higher education</td>\n",
       "      <td>Civil marriage</td>\n",
       "      <td>Rented apartment</td>\n",
       "      <td>...</td>\n",
       "      <td>1</td>\n",
       "      <td>1</td>\n",
       "      <td>0</td>\n",
       "      <td>0</td>\n",
       "      <td>2.0</td>\n",
       "      <td>0</td>\n",
       "      <td>C</td>\n",
       "      <td>-15</td>\n",
       "      <td>No</td>\n",
       "      <td>1</td>\n",
       "    </tr>\n",
       "    <tr>\n",
       "      <th>1</th>\n",
       "      <td>5008804</td>\n",
       "      <td>M</td>\n",
       "      <td>Y</td>\n",
       "      <td>Y</td>\n",
       "      <td>0</td>\n",
       "      <td>427500.0</td>\n",
       "      <td>Working</td>\n",
       "      <td>Higher education</td>\n",
       "      <td>Civil marriage</td>\n",
       "      <td>Rented apartment</td>\n",
       "      <td>...</td>\n",
       "      <td>1</td>\n",
       "      <td>1</td>\n",
       "      <td>0</td>\n",
       "      <td>0</td>\n",
       "      <td>2.0</td>\n",
       "      <td>-1</td>\n",
       "      <td>C</td>\n",
       "      <td>-15</td>\n",
       "      <td>No</td>\n",
       "      <td>1</td>\n",
       "    </tr>\n",
       "    <tr>\n",
       "      <th>2</th>\n",
       "      <td>5008804</td>\n",
       "      <td>M</td>\n",
       "      <td>Y</td>\n",
       "      <td>Y</td>\n",
       "      <td>0</td>\n",
       "      <td>427500.0</td>\n",
       "      <td>Working</td>\n",
       "      <td>Higher education</td>\n",
       "      <td>Civil marriage</td>\n",
       "      <td>Rented apartment</td>\n",
       "      <td>...</td>\n",
       "      <td>1</td>\n",
       "      <td>1</td>\n",
       "      <td>0</td>\n",
       "      <td>0</td>\n",
       "      <td>2.0</td>\n",
       "      <td>-2</td>\n",
       "      <td>C</td>\n",
       "      <td>-15</td>\n",
       "      <td>No</td>\n",
       "      <td>1</td>\n",
       "    </tr>\n",
       "    <tr>\n",
       "      <th>3</th>\n",
       "      <td>5008804</td>\n",
       "      <td>M</td>\n",
       "      <td>Y</td>\n",
       "      <td>Y</td>\n",
       "      <td>0</td>\n",
       "      <td>427500.0</td>\n",
       "      <td>Working</td>\n",
       "      <td>Higher education</td>\n",
       "      <td>Civil marriage</td>\n",
       "      <td>Rented apartment</td>\n",
       "      <td>...</td>\n",
       "      <td>1</td>\n",
       "      <td>1</td>\n",
       "      <td>0</td>\n",
       "      <td>0</td>\n",
       "      <td>2.0</td>\n",
       "      <td>-3</td>\n",
       "      <td>C</td>\n",
       "      <td>-15</td>\n",
       "      <td>No</td>\n",
       "      <td>1</td>\n",
       "    </tr>\n",
       "    <tr>\n",
       "      <th>4</th>\n",
       "      <td>5008804</td>\n",
       "      <td>M</td>\n",
       "      <td>Y</td>\n",
       "      <td>Y</td>\n",
       "      <td>0</td>\n",
       "      <td>427500.0</td>\n",
       "      <td>Working</td>\n",
       "      <td>Higher education</td>\n",
       "      <td>Civil marriage</td>\n",
       "      <td>Rented apartment</td>\n",
       "      <td>...</td>\n",
       "      <td>1</td>\n",
       "      <td>1</td>\n",
       "      <td>0</td>\n",
       "      <td>0</td>\n",
       "      <td>2.0</td>\n",
       "      <td>-4</td>\n",
       "      <td>C</td>\n",
       "      <td>-15</td>\n",
       "      <td>No</td>\n",
       "      <td>1</td>\n",
       "    </tr>\n",
       "    <tr>\n",
       "      <th>...</th>\n",
       "      <td>...</td>\n",
       "      <td>...</td>\n",
       "      <td>...</td>\n",
       "      <td>...</td>\n",
       "      <td>...</td>\n",
       "      <td>...</td>\n",
       "      <td>...</td>\n",
       "      <td>...</td>\n",
       "      <td>...</td>\n",
       "      <td>...</td>\n",
       "      <td>...</td>\n",
       "      <td>...</td>\n",
       "      <td>...</td>\n",
       "      <td>...</td>\n",
       "      <td>...</td>\n",
       "      <td>...</td>\n",
       "      <td>...</td>\n",
       "      <td>...</td>\n",
       "      <td>...</td>\n",
       "      <td>...</td>\n",
       "      <td>...</td>\n",
       "    </tr>\n",
       "    <tr>\n",
       "      <th>777710</th>\n",
       "      <td>5150337</td>\n",
       "      <td>M</td>\n",
       "      <td>N</td>\n",
       "      <td>Y</td>\n",
       "      <td>0</td>\n",
       "      <td>112500.0</td>\n",
       "      <td>Working</td>\n",
       "      <td>Secondary / secondary special</td>\n",
       "      <td>Single / not married</td>\n",
       "      <td>Rented apartment</td>\n",
       "      <td>...</td>\n",
       "      <td>1</td>\n",
       "      <td>0</td>\n",
       "      <td>0</td>\n",
       "      <td>0</td>\n",
       "      <td>1.0</td>\n",
       "      <td>-9</td>\n",
       "      <td>0</td>\n",
       "      <td>-13</td>\n",
       "      <td>No</td>\n",
       "      <td>1</td>\n",
       "    </tr>\n",
       "    <tr>\n",
       "      <th>777711</th>\n",
       "      <td>5150337</td>\n",
       "      <td>M</td>\n",
       "      <td>N</td>\n",
       "      <td>Y</td>\n",
       "      <td>0</td>\n",
       "      <td>112500.0</td>\n",
       "      <td>Working</td>\n",
       "      <td>Secondary / secondary special</td>\n",
       "      <td>Single / not married</td>\n",
       "      <td>Rented apartment</td>\n",
       "      <td>...</td>\n",
       "      <td>1</td>\n",
       "      <td>0</td>\n",
       "      <td>0</td>\n",
       "      <td>0</td>\n",
       "      <td>1.0</td>\n",
       "      <td>-10</td>\n",
       "      <td>2</td>\n",
       "      <td>-13</td>\n",
       "      <td>No</td>\n",
       "      <td>1</td>\n",
       "    </tr>\n",
       "    <tr>\n",
       "      <th>777712</th>\n",
       "      <td>5150337</td>\n",
       "      <td>M</td>\n",
       "      <td>N</td>\n",
       "      <td>Y</td>\n",
       "      <td>0</td>\n",
       "      <td>112500.0</td>\n",
       "      <td>Working</td>\n",
       "      <td>Secondary / secondary special</td>\n",
       "      <td>Single / not married</td>\n",
       "      <td>Rented apartment</td>\n",
       "      <td>...</td>\n",
       "      <td>1</td>\n",
       "      <td>0</td>\n",
       "      <td>0</td>\n",
       "      <td>0</td>\n",
       "      <td>1.0</td>\n",
       "      <td>-11</td>\n",
       "      <td>1</td>\n",
       "      <td>-13</td>\n",
       "      <td>No</td>\n",
       "      <td>1</td>\n",
       "    </tr>\n",
       "    <tr>\n",
       "      <th>777713</th>\n",
       "      <td>5150337</td>\n",
       "      <td>M</td>\n",
       "      <td>N</td>\n",
       "      <td>Y</td>\n",
       "      <td>0</td>\n",
       "      <td>112500.0</td>\n",
       "      <td>Working</td>\n",
       "      <td>Secondary / secondary special</td>\n",
       "      <td>Single / not married</td>\n",
       "      <td>Rented apartment</td>\n",
       "      <td>...</td>\n",
       "      <td>1</td>\n",
       "      <td>0</td>\n",
       "      <td>0</td>\n",
       "      <td>0</td>\n",
       "      <td>1.0</td>\n",
       "      <td>-12</td>\n",
       "      <td>0</td>\n",
       "      <td>-13</td>\n",
       "      <td>No</td>\n",
       "      <td>1</td>\n",
       "    </tr>\n",
       "    <tr>\n",
       "      <th>777714</th>\n",
       "      <td>5150337</td>\n",
       "      <td>M</td>\n",
       "      <td>N</td>\n",
       "      <td>Y</td>\n",
       "      <td>0</td>\n",
       "      <td>112500.0</td>\n",
       "      <td>Working</td>\n",
       "      <td>Secondary / secondary special</td>\n",
       "      <td>Single / not married</td>\n",
       "      <td>Rented apartment</td>\n",
       "      <td>...</td>\n",
       "      <td>1</td>\n",
       "      <td>0</td>\n",
       "      <td>0</td>\n",
       "      <td>0</td>\n",
       "      <td>1.0</td>\n",
       "      <td>-13</td>\n",
       "      <td>0</td>\n",
       "      <td>-13</td>\n",
       "      <td>No</td>\n",
       "      <td>1</td>\n",
       "    </tr>\n",
       "  </tbody>\n",
       "</table>\n",
       "<p>777715 rows × 22 columns</p>\n",
       "</div>"
      ],
      "text/plain": [
       "             id gender car realty  child_number    income occupation  \\\n",
       "0       5008804      M   Y      Y             0  427500.0    Working   \n",
       "1       5008804      M   Y      Y             0  427500.0    Working   \n",
       "2       5008804      M   Y      Y             0  427500.0    Working   \n",
       "3       5008804      M   Y      Y             0  427500.0    Working   \n",
       "4       5008804      M   Y      Y             0  427500.0    Working   \n",
       "...         ...    ...  ..    ...           ...       ...        ...   \n",
       "777710  5150337      M   N      Y             0  112500.0    Working   \n",
       "777711  5150337      M   N      Y             0  112500.0    Working   \n",
       "777712  5150337      M   N      Y             0  112500.0    Working   \n",
       "777713  5150337      M   N      Y             0  112500.0    Working   \n",
       "777714  5150337      M   N      Y             0  112500.0    Working   \n",
       "\n",
       "                            education        marital_status        house_type  \\\n",
       "0                    Higher education        Civil marriage  Rented apartment   \n",
       "1                    Higher education        Civil marriage  Rented apartment   \n",
       "2                    Higher education        Civil marriage  Rented apartment   \n",
       "3                    Higher education        Civil marriage  Rented apartment   \n",
       "4                    Higher education        Civil marriage  Rented apartment   \n",
       "...                               ...                   ...               ...   \n",
       "777710  Secondary / secondary special  Single / not married  Rented apartment   \n",
       "777711  Secondary / secondary special  Single / not married  Rented apartment   \n",
       "777712  Secondary / secondary special  Single / not married  Rented apartment   \n",
       "777713  Secondary / secondary special  Single / not married  Rented apartment   \n",
       "777714  Secondary / secondary special  Single / not married  Rented apartment   \n",
       "\n",
       "        ...  mobile_phone  work_phone  phone  email  family_size  \\\n",
       "0       ...             1           1      0      0          2.0   \n",
       "1       ...             1           1      0      0          2.0   \n",
       "2       ...             1           1      0      0          2.0   \n",
       "3       ...             1           1      0      0          2.0   \n",
       "4       ...             1           1      0      0          2.0   \n",
       "...     ...           ...         ...    ...    ...          ...   \n",
       "777710  ...             1           0      0      0          1.0   \n",
       "777711  ...             1           0      0      0          1.0   \n",
       "777712  ...             1           0      0      0          1.0   \n",
       "777713  ...             1           0      0      0          1.0   \n",
       "777714  ...             1           0      0      0          1.0   \n",
       "\n",
       "        months_balance  status  begin_month credit_approval  target  \n",
       "0                    0       C          -15              No       1  \n",
       "1                   -1       C          -15              No       1  \n",
       "2                   -2       C          -15              No       1  \n",
       "3                   -3       C          -15              No       1  \n",
       "4                   -4       C          -15              No       1  \n",
       "...                ...     ...          ...             ...     ...  \n",
       "777710              -9       0          -13              No       1  \n",
       "777711             -10       2          -13              No       1  \n",
       "777712             -11       1          -13              No       1  \n",
       "777713             -12       0          -13              No       1  \n",
       "777714             -13       0          -13              No       1  \n",
       "\n",
       "[777715 rows x 22 columns]"
      ]
     },
     "execution_count": 67,
     "metadata": {},
     "output_type": "execute_result"
    }
   ],
   "source": [
    "data"
   ]
  },
  {
   "cell_type": "code",
   "execution_count": 68,
   "id": "9ea42e69",
   "metadata": {},
   "outputs": [
    {
     "name": "stderr",
     "output_type": "stream",
     "text": [
      "C:\\Users\\Yonathan Anggraiwan\\AppData\\Local\\Temp\\ipykernel_11340\\2090470277.py:13: ConstantInputWarning: An input array is constant; the correlation coefficient is not defined.\n",
      "  corr, pval = spearmanr(data[col], target, nan_policy='omit')\n"
     ]
    },
    {
     "name": "stdout",
     "output_type": "stream",
     "text": [
      "           Feature  Spearman Correlation        p-value\n",
      "11     begin_month              0.046932   0.000000e+00\n",
      "10  months_balance              0.018263   2.286963e-58\n",
      "7            phone              0.008894   4.391256e-15\n",
      "6       work_phone              0.001237   2.752842e-01\n",
      "4    days_employed              0.000230   8.389664e-01\n",
      "9      family_size             -0.006159   5.578557e-08\n",
      "8            email             -0.011388   9.817997e-24\n",
      "0               id             -0.011854   1.400169e-25\n",
      "2           income             -0.015275   2.297872e-41\n",
      "1     child_number             -0.016658   7.323117e-49\n",
      "3       days_birth             -0.032482  1.470893e-180\n",
      "12          target             -1.000000   0.000000e+00\n",
      "5     mobile_phone                   NaN            NaN\n"
     ]
    }
   ],
   "source": [
    "from scipy.stats import spearmanr\n",
    "\n",
    "# Pisahkan kolom numerik\n",
    "numeric_cols = data.select_dtypes(include='number')\n",
    "\n",
    "# Mapping target secara lokal\n",
    "target = data['credit_approval'].map({'Yes': 1, 'No': 0})\n",
    "\n",
    "# Hitung spearman correlation dan p-value\n",
    "spearman_results = []\n",
    "\n",
    "for col in numeric_cols:\n",
    "    corr, pval = spearmanr(data[col], target, nan_policy='omit')\n",
    "    spearman_results.append((col, corr, pval))\n",
    "\n",
    "# Simpan ke DataFrame\n",
    "spearman_df = pd.DataFrame(spearman_results, columns=['Feature', 'Spearman Correlation', 'p-value'])\n",
    "spearman_df = spearman_df.sort_values(by='Spearman Correlation', ascending=False)\n",
    "print(spearman_df)"
   ]
  },
  {
   "cell_type": "code",
   "execution_count": 90,
   "id": "8a2b3f87",
   "metadata": {},
   "outputs": [
    {
     "name": "stdout",
     "output_type": "stream",
     "text": [
      "          Feature  Cramér's V\n",
      "7          status       0.321\n",
      "2          realty       0.031\n",
      "4       education       0.027\n",
      "5  marital_status       0.024\n",
      "0          gender       0.022\n",
      "3      occupation       0.021\n",
      "6      house_type       0.017\n",
      "1             car       0.012\n"
     ]
    }
   ],
   "source": [
    "from scipy.stats import chi2_contingency\n",
    "\n",
    "def cramers_v(col1, col2):\n",
    "    contingency = pd.crosstab(col1, col2)\n",
    "    chi2 = chi2_contingency(contingency)[0]\n",
    "    n = contingency.sum().sum()\n",
    "    r, k = contingency.shape\n",
    "    return np.sqrt(chi2 / (n * (min(r, k) - 1)))\n",
    "\n",
    "# Pilih semua kolom kategorikal, kecuali target\n",
    "categorical_cols = data.select_dtypes(include='object').columns.drop('credit_approval')\n",
    "cramers_results = []\n",
    "\n",
    "for col in categorical_cols:\n",
    "    try:\n",
    "        score = cramers_v(data[col], data['credit_approval'])\n",
    "        cramers_results.append((col, round(score, 3)))\n",
    "    except:\n",
    "        pass  # lewatkan jika kolom tidak bisa diolah\n",
    "\n",
    "# Tampilkan hasil\n",
    "cramers_df = pd.DataFrame(cramers_results, columns=['Feature', \"Cramér's V\"])\n",
    "cramers_df = cramers_df.sort_values(by=\"Cramér's V\", ascending=False)\n",
    "print(cramers_df)"
   ]
  },
  {
   "cell_type": "markdown",
   "id": "cbb0fd26",
   "metadata": {},
   "source": [
    "Insight:\n",
    "\n",
    "....."
   ]
  },
  {
   "cell_type": "markdown",
   "id": "67648162",
   "metadata": {},
   "source": [
    "___\n",
    "### EDA 8.2 Is there multicollinearity that could affect model reliability later on?"
   ]
  },
  {
   "cell_type": "code",
   "execution_count": 92,
   "id": "1cda76a7",
   "metadata": {},
   "outputs": [
    {
     "name": "stdout",
     "output_type": "stream",
     "text": [
      "           Feature           VIF\n",
      "5     mobile_phone  15026.822470\n",
      "1     child_number      5.029649\n",
      "9      family_size      4.924435\n",
      "3       days_birth      1.759963\n",
      "4    days_employed      1.697911\n",
      "11     begin_month      1.650425\n",
      "10  months_balance      1.641183\n",
      "6       work_phone      1.208879\n",
      "7            phone      1.120839\n",
      "2           income      1.047278\n",
      "8            email      1.024853\n",
      "0               id      1.012373\n"
     ]
    }
   ],
   "source": [
    "from statsmodels.stats.outliers_influence import variance_inflation_factor\n",
    "from statsmodels.tools.tools import add_constant\n",
    "\n",
    "# Pilih hanya fitur numerik untuk VIF\n",
    "numerical_features = data.select_dtypes(include=['float64', 'int64']).drop(columns=['target'])\n",
    "X = add_constant(numerical_features)  # Tambahkan intercept\n",
    "\n",
    "vif_scores = pd.DataFrame()\n",
    "vif_scores['Feature'] = X.columns\n",
    "vif_scores['VIF'] = [variance_inflation_factor(X.values, i) for i in range(X.shape[1])]\n",
    "print(vif_scores.sort_values(by='VIF', ascending=False))"
   ]
  },
  {
   "cell_type": "markdown",
   "id": "a6f6f120",
   "metadata": {},
   "source": [
    "Insight:\n",
    "\n",
    "Yes, very affect the model.\n",
    "___"
   ]
  }
 ],
 "metadata": {
  "kernelspec": {
   "display_name": "my_env",
   "language": "python",
   "name": "python3"
  },
  "language_info": {
   "codemirror_mode": {
    "name": "ipython",
    "version": 3
   },
   "file_extension": ".py",
   "mimetype": "text/x-python",
   "name": "python",
   "nbconvert_exporter": "python",
   "pygments_lexer": "ipython3",
   "version": "3.10.18"
  }
 },
 "nbformat": 4,
 "nbformat_minor": 5
}
