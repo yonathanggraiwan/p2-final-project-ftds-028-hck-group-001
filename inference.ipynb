{
 "cells": [
  {
   "cell_type": "code",
   "execution_count": 765,
   "id": "42f7cfd1",
   "metadata": {},
   "outputs": [],
   "source": [
    "import pandas as pd\n",
    "import pickle\n",
    "from inference import FeatureEngineer\n",
    "import numpy as np\n",
    "import random"
   ]
  },
  {
   "cell_type": "code",
   "execution_count": 766,
   "id": "099a1f9e",
   "metadata": {},
   "outputs": [],
   "source": [
    "with open('model_lgbm.pkl', 'rb') as f:\n",
    "    model = pickle.load(f)"
   ]
  },
  {
   "cell_type": "code",
   "execution_count": 767,
   "id": "68cc496e",
   "metadata": {},
   "outputs": [],
   "source": [
    "# Load reference dataset (untuk median income jika diperlukan)\n",
    "reference_df = pd.read_csv('dataset/P2_FinPro_Final_Record.csv')\n",
    "median_income = reference_df['income'].median()"
   ]
  },
  {
   "cell_type": "code",
   "execution_count": 768,
   "id": "6b623f80",
   "metadata": {},
   "outputs": [
    {
     "data": {
      "text/html": [
       "<div>\n",
       "<style scoped>\n",
       "    .dataframe tbody tr th:only-of-type {\n",
       "        vertical-align: middle;\n",
       "    }\n",
       "\n",
       "    .dataframe tbody tr th {\n",
       "        vertical-align: top;\n",
       "    }\n",
       "\n",
       "    .dataframe thead th {\n",
       "        text-align: right;\n",
       "    }\n",
       "</style>\n",
       "<table border=\"1\" class=\"dataframe\">\n",
       "  <thead>\n",
       "    <tr style=\"text-align: right;\">\n",
       "      <th></th>\n",
       "      <th>id</th>\n",
       "      <th>gender</th>\n",
       "      <th>car</th>\n",
       "      <th>realty</th>\n",
       "      <th>child_number</th>\n",
       "      <th>income</th>\n",
       "      <th>occupation</th>\n",
       "      <th>education</th>\n",
       "      <th>marital_status</th>\n",
       "      <th>house_type</th>\n",
       "      <th>days_birth</th>\n",
       "      <th>days_employed</th>\n",
       "      <th>mobile_phone</th>\n",
       "      <th>work_phone</th>\n",
       "      <th>phone</th>\n",
       "      <th>email</th>\n",
       "      <th>family_size</th>\n",
       "      <th>months_balance</th>\n",
       "      <th>status</th>\n",
       "    </tr>\n",
       "  </thead>\n",
       "  <tbody>\n",
       "    <tr>\n",
       "      <th>0</th>\n",
       "      <td>5226840</td>\n",
       "      <td>M</td>\n",
       "      <td>N</td>\n",
       "      <td>Y</td>\n",
       "      <td>0</td>\n",
       "      <td>59973.64</td>\n",
       "      <td>Commercial associate</td>\n",
       "      <td>Lower secondary</td>\n",
       "      <td>Single / not married</td>\n",
       "      <td>With parents</td>\n",
       "      <td>-9814</td>\n",
       "      <td>-7617</td>\n",
       "      <td>1</td>\n",
       "      <td>1</td>\n",
       "      <td>1</td>\n",
       "      <td>1</td>\n",
       "      <td>5.0</td>\n",
       "      <td>-41</td>\n",
       "      <td>1</td>\n",
       "    </tr>\n",
       "  </tbody>\n",
       "</table>\n",
       "</div>"
      ],
      "text/plain": [
       "        id gender car realty  child_number    income            occupation  \\\n",
       "0  5226840      M   N      Y             0  59973.64  Commercial associate   \n",
       "\n",
       "         education        marital_status    house_type  days_birth  \\\n",
       "0  Lower secondary  Single / not married  With parents       -9814   \n",
       "\n",
       "   days_employed  mobile_phone  work_phone  phone  email  family_size  \\\n",
       "0          -7617             1           1      1      1          5.0   \n",
       "\n",
       "   months_balance status  \n",
       "0             -41      1  "
      ]
     },
     "execution_count": 768,
     "metadata": {},
     "output_type": "execute_result"
    }
   ],
   "source": [
    "new_applicant = {\n",
    "\"id\": random.randint(5000000, 6000000),\n",
    "\"gender\": random.choice([\"M\", \"F\"]),\n",
    "\"car\": random.choice([\"Y\", \"N\"]),\n",
    "\"realty\": random.choice([\"Y\", \"N\"]),\n",
    "\"child_number\": random.randint(0, 3),\n",
    "\"income\": round(random.uniform(50000, 200000), 2),\n",
    "\"occupation\": random.choice([\"Working\", \"Commercial associate\", \"Pensioner\", \"State servant\", \"Student\"]),\n",
    "\"education\": random.choice([\"Lower secondary\", \"Secondary / secondary special\", \"Incomplete higher\", \"Higher education\", \"Academic degree\"]),\n",
    "\"marital_status\": random.choice([\"Single / not married\", \"Married\", \"Civil marriage\", \"Separated\", \"Widow\"]),\n",
    "\"house_type\": random.choice([\"With parents\", \"Municipal apartment\", \"Rented apartment\", \"Office apartment\", \"House / apartment\", \"Co-op apartment\"]),\n",
    "\"days_birth\": -random.randint(7000, 25000),  # Approx age 20–70\n",
    "\"days_employed\": -random.randint(0, 20000),\n",
    "\"mobile_phone\": 1,\n",
    "\"work_phone\": random.choice([0, 1]),\n",
    "\"phone\": random.choice([0, 1]),\n",
    "\"email\": random.choice([0, 1]),\n",
    "\"family_size\": random.choice([1.0, 2.0, 3.0, 4.0, 5.0]),\n",
    "\"months_balance\": -random.randint(0, 90),\n",
    "\"status\": random.choice([\"C\", \"0\", \"1\", \"2\", \"3\", \"4\", \"5\"]),\n",
    "}\n",
    "\n",
    "new_applicant = pd.DataFrame([new_applicant])\n",
    "new_applicant"
   ]
  },
  {
   "cell_type": "code",
   "execution_count": 769,
   "id": "94e2d3ed",
   "metadata": {},
   "outputs": [
    {
     "data": {
      "text/html": [
       "<div>\n",
       "<style scoped>\n",
       "    .dataframe tbody tr th:only-of-type {\n",
       "        vertical-align: middle;\n",
       "    }\n",
       "\n",
       "    .dataframe tbody tr th {\n",
       "        vertical-align: top;\n",
       "    }\n",
       "\n",
       "    .dataframe thead th {\n",
       "        text-align: right;\n",
       "    }\n",
       "</style>\n",
       "<table border=\"1\" class=\"dataframe\">\n",
       "  <thead>\n",
       "    <tr style=\"text-align: right;\">\n",
       "      <th></th>\n",
       "      <th>months_balance</th>\n",
       "      <th>email</th>\n",
       "      <th>car</th>\n",
       "      <th>phone</th>\n",
       "      <th>realty</th>\n",
       "      <th>occupation</th>\n",
       "      <th>gender</th>\n",
       "      <th>work_phone</th>\n",
       "      <th>age</th>\n",
       "      <th>years_employed</th>\n",
       "      <th>education_income_ratio</th>\n",
       "      <th>income_per_person</th>\n",
       "      <th>low_income</th>\n",
       "      <th>financial_dependence_ratio</th>\n",
       "      <th>house_income_ratio</th>\n",
       "    </tr>\n",
       "  </thead>\n",
       "  <tbody>\n",
       "    <tr>\n",
       "      <th>0</th>\n",
       "      <td>-41</td>\n",
       "      <td>1</td>\n",
       "      <td>N</td>\n",
       "      <td>1</td>\n",
       "      <td>Y</td>\n",
       "      <td>Commercial associate</td>\n",
       "      <td>M</td>\n",
       "      <td>1</td>\n",
       "      <td>26</td>\n",
       "      <td>20</td>\n",
       "      <td>0.000017</td>\n",
       "      <td>11994.728</td>\n",
       "      <td>1</td>\n",
       "      <td>5.0</td>\n",
       "      <td>0.0</td>\n",
       "    </tr>\n",
       "  </tbody>\n",
       "</table>\n",
       "</div>"
      ],
      "text/plain": [
       "   months_balance  email car  phone realty            occupation gender  \\\n",
       "0             -41      1   N      1      Y  Commercial associate      M   \n",
       "\n",
       "   work_phone  age  years_employed  education_income_ratio  income_per_person  \\\n",
       "0           1   26              20                0.000017          11994.728   \n",
       "\n",
       "   low_income  financial_dependence_ratio  house_income_ratio  \n",
       "0           1                         5.0                 0.0  "
      ]
     },
     "execution_count": 769,
     "metadata": {},
     "output_type": "execute_result"
    }
   ],
   "source": [
    "engineer = FeatureEngineer(median_income=median_income)\n",
    "processed_input = engineer.transform(new_applicant)\n",
    "processed_input"
   ]
  },
  {
   "cell_type": "code",
   "execution_count": 770,
   "id": "86570afc",
   "metadata": {},
   "outputs": [
    {
     "name": "stdout",
     "output_type": "stream",
     "text": [
      "Good Credit\n",
      "Good Credit: 0.9988\n"
     ]
    },
    {
     "name": "stderr",
     "output_type": "stream",
     "text": [
      "/opt/anaconda3/envs/h8_env/lib/python3.9/site-packages/sklearn/utils/validation.py:2739: UserWarning: X does not have valid feature names, but LGBMClassifier was fitted with feature names\n",
      "  warnings.warn(\n",
      "/opt/anaconda3/envs/h8_env/lib/python3.9/site-packages/sklearn/utils/validation.py:2739: UserWarning: X does not have valid feature names, but LGBMClassifier was fitted with feature names\n",
      "  warnings.warn(\n"
     ]
    }
   ],
   "source": [
    "prediction = model.predict(processed_input)\n",
    "result = 'NPL' if prediction[0] == 1 else 'Good Credit'\n",
    "probability = model.predict_proba(processed_input)\n",
    "print(result)\n",
    "if result == 'Good Credit':\n",
    "    print('Good Credit:', round(probability[0][0], 4))\n",
    "if result == 'NPL':\n",
    "    print('Probability NPL:', round(probability[0][1], 4))"
   ]
  }
 ],
 "metadata": {
  "kernelspec": {
   "display_name": "h8_env",
   "language": "python",
   "name": "python3"
  },
  "language_info": {
   "codemirror_mode": {
    "name": "ipython",
    "version": 3
   },
   "file_extension": ".py",
   "mimetype": "text/x-python",
   "name": "python",
   "nbconvert_exporter": "python",
   "pygments_lexer": "ipython3",
   "version": "3.9.23"
  }
 },
 "nbformat": 4,
 "nbformat_minor": 5
}
