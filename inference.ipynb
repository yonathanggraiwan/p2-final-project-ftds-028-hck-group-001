{
 "cells": [
  {
   "cell_type": "code",
   "execution_count": 1,
   "id": "42f7cfd1",
   "metadata": {},
   "outputs": [],
   "source": [
    "import pandas as pd\n",
    "import pickle\n",
    "from inference import FeatureEngineer\n",
    "import numpy as np\n",
    "import random"
   ]
  },
  {
   "cell_type": "code",
   "execution_count": 2,
   "id": "099a1f9e",
   "metadata": {},
   "outputs": [],
   "source": [
    "with open('model_terbaik.pkl', 'rb') as f:\n",
    "    model = pickle.load(f)"
   ]
  },
  {
   "cell_type": "code",
   "execution_count": 3,
   "id": "68cc496e",
   "metadata": {},
   "outputs": [],
   "source": [
    "# Load reference dataset (untuk median income jika diperlukan)\n",
    "reference_df = pd.read_csv('dataset/P2_FinPro_Final_Record.csv')\n",
    "median_income = reference_df['income'].median()"
   ]
  },
  {
   "cell_type": "code",
   "execution_count": 8,
   "id": "6b623f80",
   "metadata": {},
   "outputs": [
    {
     "data": {
      "text/html": [
       "<div>\n",
       "<style scoped>\n",
       "    .dataframe tbody tr th:only-of-type {\n",
       "        vertical-align: middle;\n",
       "    }\n",
       "\n",
       "    .dataframe tbody tr th {\n",
       "        vertical-align: top;\n",
       "    }\n",
       "\n",
       "    .dataframe thead th {\n",
       "        text-align: right;\n",
       "    }\n",
       "</style>\n",
       "<table border=\"1\" class=\"dataframe\">\n",
       "  <thead>\n",
       "    <tr style=\"text-align: right;\">\n",
       "      <th></th>\n",
       "      <th>id</th>\n",
       "      <th>gender</th>\n",
       "      <th>car</th>\n",
       "      <th>realty</th>\n",
       "      <th>child_number</th>\n",
       "      <th>income</th>\n",
       "      <th>occupation</th>\n",
       "      <th>education</th>\n",
       "      <th>marital_status</th>\n",
       "      <th>house_type</th>\n",
       "      <th>days_birth</th>\n",
       "      <th>days_employed</th>\n",
       "      <th>mobile_phone</th>\n",
       "      <th>work_phone</th>\n",
       "      <th>phone</th>\n",
       "      <th>email</th>\n",
       "      <th>family_size</th>\n",
       "      <th>months_balance</th>\n",
       "      <th>status</th>\n",
       "      <th>begin_month</th>\n",
       "    </tr>\n",
       "  </thead>\n",
       "  <tbody>\n",
       "    <tr>\n",
       "      <th>0</th>\n",
       "      <td>5927707</td>\n",
       "      <td>F</td>\n",
       "      <td>N</td>\n",
       "      <td>Y</td>\n",
       "      <td>1</td>\n",
       "      <td>105231.13</td>\n",
       "      <td>Working</td>\n",
       "      <td>Lower secondary</td>\n",
       "      <td>Widow</td>\n",
       "      <td>Office apartment</td>\n",
       "      <td>-11602</td>\n",
       "      <td>-13635</td>\n",
       "      <td>1</td>\n",
       "      <td>1</td>\n",
       "      <td>1</td>\n",
       "      <td>1</td>\n",
       "      <td>5.0</td>\n",
       "      <td>0</td>\n",
       "      <td>2</td>\n",
       "      <td>-44</td>\n",
       "    </tr>\n",
       "  </tbody>\n",
       "</table>\n",
       "</div>"
      ],
      "text/plain": [
       "        id gender car realty  child_number     income occupation  \\\n",
       "0  5927707      F   N      Y             1  105231.13    Working   \n",
       "\n",
       "         education marital_status        house_type  days_birth  \\\n",
       "0  Lower secondary          Widow  Office apartment      -11602   \n",
       "\n",
       "   days_employed  mobile_phone  work_phone  phone  email  family_size  \\\n",
       "0         -13635             1           1      1      1          5.0   \n",
       "\n",
       "   months_balance status  begin_month  \n",
       "0               0      2          -44  "
      ]
     },
     "execution_count": 8,
     "metadata": {},
     "output_type": "execute_result"
    }
   ],
   "source": [
    "new_applicant = {\n",
    "\"id\": random.randint(5000000, 6000000),\n",
    "\"gender\": random.choice([\"M\", \"F\"]),\n",
    "\"car\": random.choice([\"Y\", \"N\"]),\n",
    "\"realty\": random.choice([\"Y\", \"N\"]),\n",
    "\"child_number\": random.randint(0, 3),\n",
    "\"income\": round(random.uniform(100000, 1000000), 2),\n",
    "\"occupation\": random.choice([\"Working\", \"Commercial associate\", \"Pensioner\", \"State servant\", \"Student\"]),\n",
    "\"education\": random.choice([\"Lower secondary\", \"Secondary / secondary special\", \"Incomplete higher\", \"Higher education\", \"Academic degree\"]),\n",
    "\"marital_status\": random.choice([\"Single / not married\", \"Married\", \"Civil marriage\", \"Separated\", \"Widow\"]),\n",
    "\"house_type\": random.choice([\"With parents\", \"Municipal apartment\", \"Rented apartment\", \"Office apartment\", \"House / apartment\", \"Co-op apartment\"]),\n",
    "\"days_birth\": -random.randint(7000, 25000),  # Approx age 20–70\n",
    "\"days_employed\": -random.randint(0, 20000),\n",
    "\"mobile_phone\": 1,\n",
    "\"work_phone\": random.choice([0, 1]),\n",
    "\"phone\": random.choice([0, 1]),\n",
    "\"email\": random.choice([0, 1]),\n",
    "\"family_size\": random.choice([1.0, 2.0, 3.0, 4.0, 5.0]),\n",
    "\"months_balance\": 0,\n",
    "\"status\": random.choice([\"C\", \"0\", \"1\", \"2\", \"3\", \"4\", \"5\"]),\n",
    "\"begin_month\": -random.randint(0, 100)\n",
    "}\n",
    "\n",
    "new_applicant = pd.DataFrame([new_applicant])\n",
    "new_applicant"
   ]
  },
  {
   "cell_type": "code",
   "execution_count": 9,
   "id": "94e2d3ed",
   "metadata": {},
   "outputs": [
    {
     "data": {
      "text/html": [
       "<div>\n",
       "<style scoped>\n",
       "    .dataframe tbody tr th:only-of-type {\n",
       "        vertical-align: middle;\n",
       "    }\n",
       "\n",
       "    .dataframe tbody tr th {\n",
       "        vertical-align: top;\n",
       "    }\n",
       "\n",
       "    .dataframe thead th {\n",
       "        text-align: right;\n",
       "    }\n",
       "</style>\n",
       "<table border=\"1\" class=\"dataframe\">\n",
       "  <thead>\n",
       "    <tr style=\"text-align: right;\">\n",
       "      <th></th>\n",
       "      <th>months_balance</th>\n",
       "      <th>email</th>\n",
       "      <th>car</th>\n",
       "      <th>phone</th>\n",
       "      <th>realty</th>\n",
       "      <th>occupation</th>\n",
       "      <th>gender</th>\n",
       "      <th>work_phone</th>\n",
       "      <th>age</th>\n",
       "      <th>years_employed</th>\n",
       "      <th>education_income_ratio</th>\n",
       "      <th>income_per_person</th>\n",
       "      <th>low_income</th>\n",
       "      <th>financial_dependence_ratio</th>\n",
       "      <th>house_income_ratio</th>\n",
       "    </tr>\n",
       "  </thead>\n",
       "  <tbody>\n",
       "    <tr>\n",
       "      <th>0</th>\n",
       "      <td>0</td>\n",
       "      <td>1</td>\n",
       "      <td>N</td>\n",
       "      <td>1</td>\n",
       "      <td>Y</td>\n",
       "      <td>Working</td>\n",
       "      <td>F</td>\n",
       "      <td>1</td>\n",
       "      <td>31</td>\n",
       "      <td>37</td>\n",
       "      <td>0.00001</td>\n",
       "      <td>21046.226</td>\n",
       "      <td>1</td>\n",
       "      <td>2.5</td>\n",
       "      <td>0.000029</td>\n",
       "    </tr>\n",
       "  </tbody>\n",
       "</table>\n",
       "</div>"
      ],
      "text/plain": [
       "   months_balance  email car  phone realty occupation gender  work_phone  age  \\\n",
       "0               0      1   N      1      Y    Working      F           1   31   \n",
       "\n",
       "   years_employed  education_income_ratio  income_per_person  low_income  \\\n",
       "0              37                 0.00001          21046.226           1   \n",
       "\n",
       "   financial_dependence_ratio  house_income_ratio  \n",
       "0                         2.5            0.000029  "
      ]
     },
     "execution_count": 9,
     "metadata": {},
     "output_type": "execute_result"
    }
   ],
   "source": [
    "engineer = FeatureEngineer(median_income=median_income)\n",
    "processed_input = engineer.transform(new_applicant)\n",
    "processed_input"
   ]
  },
  {
   "cell_type": "code",
   "execution_count": 10,
   "id": "86570afc",
   "metadata": {},
   "outputs": [
    {
     "name": "stdout",
     "output_type": "stream",
     "text": [
      "Approved\n",
      "Probability Approved: 0.6286\n"
     ]
    }
   ],
   "source": [
    "prediction = model.predict(processed_input)\n",
    "result = 'Rejected' if prediction[0] == 1 else 'Approved'\n",
    "probability = model.predict_proba(processed_input)\n",
    "print(result)\n",
    "if result == 'Approved':\n",
    "    print('Probability Approved:', round(probability[0][0], 4))\n",
    "if result == 'Rejected':\n",
    "    print('Probability Rejected:', round(probability[0][1], 4))"
   ]
  }
 ],
 "metadata": {
  "language_info": {
   "name": "python"
  }
 },
 "nbformat": 4,
 "nbformat_minor": 5
}
