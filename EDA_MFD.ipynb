{
 "cells": [
  {
   "cell_type": "markdown",
   "id": "bf3bf112",
   "metadata": {},
   "source": [
    "---\n",
    "\n",
    "# Exploratory Data Analysis\n",
    "\n",
    "In this .ipynb, we will analyze the data that we have currently and analyze it to understand our data better and create a model suited for the usage.\n",
    "\n",
    "---"
   ]
  },
  {
   "cell_type": "markdown",
   "id": "dae7c63d",
   "metadata": {},
   "source": [
    "## Importing Modules"
   ]
  },
  {
   "cell_type": "code",
   "execution_count": 10,
   "id": "33503444",
   "metadata": {},
   "outputs": [],
   "source": [
    "import pandas as pd  # Manipulasi dan analisis data tabular\n",
    "import seaborn as sns\n",
    "import matplotlib.pyplot as plt\n"
   ]
  },
  {
   "cell_type": "markdown",
   "id": "25465d15",
   "metadata": {},
   "source": [
    "## Importing Dataset"
   ]
  },
  {
   "cell_type": "code",
   "execution_count": null,
   "id": "2b723690",
   "metadata": {},
   "outputs": [],
   "source": [
    "data = pd.read_csv(\"dataset\\P2_FinPro_Final_Record.csv\")"
   ]
  },
  {
   "cell_type": "code",
   "execution_count": 3,
   "id": "e594e0a3",
   "metadata": {},
   "outputs": [
    {
     "data": {
      "application/vnd.microsoft.datawrangler.viewer.v0+json": {
       "columns": [
        {
         "name": "index",
         "rawType": "int64",
         "type": "integer"
        },
        {
         "name": "id",
         "rawType": "int64",
         "type": "integer"
        },
        {
         "name": "gender",
         "rawType": "object",
         "type": "string"
        },
        {
         "name": "car",
         "rawType": "object",
         "type": "string"
        },
        {
         "name": "realty",
         "rawType": "object",
         "type": "string"
        },
        {
         "name": "child_number",
         "rawType": "int64",
         "type": "integer"
        },
        {
         "name": "income",
         "rawType": "float64",
         "type": "float"
        },
        {
         "name": "occupation",
         "rawType": "object",
         "type": "string"
        },
        {
         "name": "education",
         "rawType": "object",
         "type": "string"
        },
        {
         "name": "marital_status",
         "rawType": "object",
         "type": "string"
        },
        {
         "name": "house_type",
         "rawType": "object",
         "type": "string"
        },
        {
         "name": "days_birth",
         "rawType": "int64",
         "type": "integer"
        },
        {
         "name": "days_employed",
         "rawType": "int64",
         "type": "integer"
        },
        {
         "name": "mobile_phone",
         "rawType": "int64",
         "type": "integer"
        },
        {
         "name": "work_phone",
         "rawType": "int64",
         "type": "integer"
        },
        {
         "name": "phone",
         "rawType": "int64",
         "type": "integer"
        },
        {
         "name": "email",
         "rawType": "int64",
         "type": "integer"
        },
        {
         "name": "family_size",
         "rawType": "float64",
         "type": "float"
        },
        {
         "name": "months_balance",
         "rawType": "int64",
         "type": "integer"
        },
        {
         "name": "status",
         "rawType": "object",
         "type": "string"
        },
        {
         "name": "begin_month",
         "rawType": "int64",
         "type": "integer"
        },
        {
         "name": "credit_approval",
         "rawType": "object",
         "type": "string"
        },
        {
         "name": "target",
         "rawType": "int64",
         "type": "integer"
        }
       ],
       "ref": "964e28e0-6029-42b5-9051-1c958152b9db",
       "rows": [
        [
         "0",
         "5008804",
         "M",
         "Y",
         "Y",
         "0",
         "427500.0",
         "Working",
         "Higher education",
         "Civil marriage",
         "Rented apartment",
         "-12005",
         "-4542",
         "1",
         "1",
         "0",
         "0",
         "2.0",
         "0",
         "C",
         "-15",
         "No",
         "1"
        ],
        [
         "1",
         "5008804",
         "M",
         "Y",
         "Y",
         "0",
         "427500.0",
         "Working",
         "Higher education",
         "Civil marriage",
         "Rented apartment",
         "-12005",
         "-4542",
         "1",
         "1",
         "0",
         "0",
         "2.0",
         "-1",
         "C",
         "-15",
         "No",
         "1"
        ],
        [
         "2",
         "5008804",
         "M",
         "Y",
         "Y",
         "0",
         "427500.0",
         "Working",
         "Higher education",
         "Civil marriage",
         "Rented apartment",
         "-12005",
         "-4542",
         "1",
         "1",
         "0",
         "0",
         "2.0",
         "-2",
         "C",
         "-15",
         "No",
         "1"
        ],
        [
         "3",
         "5008804",
         "M",
         "Y",
         "Y",
         "0",
         "427500.0",
         "Working",
         "Higher education",
         "Civil marriage",
         "Rented apartment",
         "-12005",
         "-4542",
         "1",
         "1",
         "0",
         "0",
         "2.0",
         "-3",
         "C",
         "-15",
         "No",
         "1"
        ],
        [
         "4",
         "5008804",
         "M",
         "Y",
         "Y",
         "0",
         "427500.0",
         "Working",
         "Higher education",
         "Civil marriage",
         "Rented apartment",
         "-12005",
         "-4542",
         "1",
         "1",
         "0",
         "0",
         "2.0",
         "-4",
         "C",
         "-15",
         "No",
         "1"
        ],
        [
         "5",
         "5008804",
         "M",
         "Y",
         "Y",
         "0",
         "427500.0",
         "Working",
         "Higher education",
         "Civil marriage",
         "Rented apartment",
         "-12005",
         "-4542",
         "1",
         "1",
         "0",
         "0",
         "2.0",
         "-5",
         "C",
         "-15",
         "No",
         "1"
        ],
        [
         "6",
         "5008804",
         "M",
         "Y",
         "Y",
         "0",
         "427500.0",
         "Working",
         "Higher education",
         "Civil marriage",
         "Rented apartment",
         "-12005",
         "-4542",
         "1",
         "1",
         "0",
         "0",
         "2.0",
         "-6",
         "C",
         "-15",
         "No",
         "1"
        ],
        [
         "7",
         "5008804",
         "M",
         "Y",
         "Y",
         "0",
         "427500.0",
         "Working",
         "Higher education",
         "Civil marriage",
         "Rented apartment",
         "-12005",
         "-4542",
         "1",
         "1",
         "0",
         "0",
         "2.0",
         "-7",
         "C",
         "-15",
         "No",
         "1"
        ],
        [
         "8",
         "5008804",
         "M",
         "Y",
         "Y",
         "0",
         "427500.0",
         "Working",
         "Higher education",
         "Civil marriage",
         "Rented apartment",
         "-12005",
         "-4542",
         "1",
         "1",
         "0",
         "0",
         "2.0",
         "-8",
         "C",
         "-15",
         "No",
         "1"
        ],
        [
         "9",
         "5008804",
         "M",
         "Y",
         "Y",
         "0",
         "427500.0",
         "Working",
         "Higher education",
         "Civil marriage",
         "Rented apartment",
         "-12005",
         "-4542",
         "1",
         "1",
         "0",
         "0",
         "2.0",
         "-9",
         "C",
         "-15",
         "No",
         "1"
        ]
       ],
       "shape": {
        "columns": 22,
        "rows": 10
       }
      },
      "text/html": [
       "<div>\n",
       "<style scoped>\n",
       "    .dataframe tbody tr th:only-of-type {\n",
       "        vertical-align: middle;\n",
       "    }\n",
       "\n",
       "    .dataframe tbody tr th {\n",
       "        vertical-align: top;\n",
       "    }\n",
       "\n",
       "    .dataframe thead th {\n",
       "        text-align: right;\n",
       "    }\n",
       "</style>\n",
       "<table border=\"1\" class=\"dataframe\">\n",
       "  <thead>\n",
       "    <tr style=\"text-align: right;\">\n",
       "      <th></th>\n",
       "      <th>id</th>\n",
       "      <th>gender</th>\n",
       "      <th>car</th>\n",
       "      <th>realty</th>\n",
       "      <th>child_number</th>\n",
       "      <th>income</th>\n",
       "      <th>occupation</th>\n",
       "      <th>education</th>\n",
       "      <th>marital_status</th>\n",
       "      <th>house_type</th>\n",
       "      <th>...</th>\n",
       "      <th>mobile_phone</th>\n",
       "      <th>work_phone</th>\n",
       "      <th>phone</th>\n",
       "      <th>email</th>\n",
       "      <th>family_size</th>\n",
       "      <th>months_balance</th>\n",
       "      <th>status</th>\n",
       "      <th>begin_month</th>\n",
       "      <th>credit_approval</th>\n",
       "      <th>target</th>\n",
       "    </tr>\n",
       "  </thead>\n",
       "  <tbody>\n",
       "    <tr>\n",
       "      <th>0</th>\n",
       "      <td>5008804</td>\n",
       "      <td>M</td>\n",
       "      <td>Y</td>\n",
       "      <td>Y</td>\n",
       "      <td>0</td>\n",
       "      <td>427500.0</td>\n",
       "      <td>Working</td>\n",
       "      <td>Higher education</td>\n",
       "      <td>Civil marriage</td>\n",
       "      <td>Rented apartment</td>\n",
       "      <td>...</td>\n",
       "      <td>1</td>\n",
       "      <td>1</td>\n",
       "      <td>0</td>\n",
       "      <td>0</td>\n",
       "      <td>2.0</td>\n",
       "      <td>0</td>\n",
       "      <td>C</td>\n",
       "      <td>-15</td>\n",
       "      <td>No</td>\n",
       "      <td>1</td>\n",
       "    </tr>\n",
       "    <tr>\n",
       "      <th>1</th>\n",
       "      <td>5008804</td>\n",
       "      <td>M</td>\n",
       "      <td>Y</td>\n",
       "      <td>Y</td>\n",
       "      <td>0</td>\n",
       "      <td>427500.0</td>\n",
       "      <td>Working</td>\n",
       "      <td>Higher education</td>\n",
       "      <td>Civil marriage</td>\n",
       "      <td>Rented apartment</td>\n",
       "      <td>...</td>\n",
       "      <td>1</td>\n",
       "      <td>1</td>\n",
       "      <td>0</td>\n",
       "      <td>0</td>\n",
       "      <td>2.0</td>\n",
       "      <td>-1</td>\n",
       "      <td>C</td>\n",
       "      <td>-15</td>\n",
       "      <td>No</td>\n",
       "      <td>1</td>\n",
       "    </tr>\n",
       "    <tr>\n",
       "      <th>2</th>\n",
       "      <td>5008804</td>\n",
       "      <td>M</td>\n",
       "      <td>Y</td>\n",
       "      <td>Y</td>\n",
       "      <td>0</td>\n",
       "      <td>427500.0</td>\n",
       "      <td>Working</td>\n",
       "      <td>Higher education</td>\n",
       "      <td>Civil marriage</td>\n",
       "      <td>Rented apartment</td>\n",
       "      <td>...</td>\n",
       "      <td>1</td>\n",
       "      <td>1</td>\n",
       "      <td>0</td>\n",
       "      <td>0</td>\n",
       "      <td>2.0</td>\n",
       "      <td>-2</td>\n",
       "      <td>C</td>\n",
       "      <td>-15</td>\n",
       "      <td>No</td>\n",
       "      <td>1</td>\n",
       "    </tr>\n",
       "    <tr>\n",
       "      <th>3</th>\n",
       "      <td>5008804</td>\n",
       "      <td>M</td>\n",
       "      <td>Y</td>\n",
       "      <td>Y</td>\n",
       "      <td>0</td>\n",
       "      <td>427500.0</td>\n",
       "      <td>Working</td>\n",
       "      <td>Higher education</td>\n",
       "      <td>Civil marriage</td>\n",
       "      <td>Rented apartment</td>\n",
       "      <td>...</td>\n",
       "      <td>1</td>\n",
       "      <td>1</td>\n",
       "      <td>0</td>\n",
       "      <td>0</td>\n",
       "      <td>2.0</td>\n",
       "      <td>-3</td>\n",
       "      <td>C</td>\n",
       "      <td>-15</td>\n",
       "      <td>No</td>\n",
       "      <td>1</td>\n",
       "    </tr>\n",
       "    <tr>\n",
       "      <th>4</th>\n",
       "      <td>5008804</td>\n",
       "      <td>M</td>\n",
       "      <td>Y</td>\n",
       "      <td>Y</td>\n",
       "      <td>0</td>\n",
       "      <td>427500.0</td>\n",
       "      <td>Working</td>\n",
       "      <td>Higher education</td>\n",
       "      <td>Civil marriage</td>\n",
       "      <td>Rented apartment</td>\n",
       "      <td>...</td>\n",
       "      <td>1</td>\n",
       "      <td>1</td>\n",
       "      <td>0</td>\n",
       "      <td>0</td>\n",
       "      <td>2.0</td>\n",
       "      <td>-4</td>\n",
       "      <td>C</td>\n",
       "      <td>-15</td>\n",
       "      <td>No</td>\n",
       "      <td>1</td>\n",
       "    </tr>\n",
       "    <tr>\n",
       "      <th>5</th>\n",
       "      <td>5008804</td>\n",
       "      <td>M</td>\n",
       "      <td>Y</td>\n",
       "      <td>Y</td>\n",
       "      <td>0</td>\n",
       "      <td>427500.0</td>\n",
       "      <td>Working</td>\n",
       "      <td>Higher education</td>\n",
       "      <td>Civil marriage</td>\n",
       "      <td>Rented apartment</td>\n",
       "      <td>...</td>\n",
       "      <td>1</td>\n",
       "      <td>1</td>\n",
       "      <td>0</td>\n",
       "      <td>0</td>\n",
       "      <td>2.0</td>\n",
       "      <td>-5</td>\n",
       "      <td>C</td>\n",
       "      <td>-15</td>\n",
       "      <td>No</td>\n",
       "      <td>1</td>\n",
       "    </tr>\n",
       "    <tr>\n",
       "      <th>6</th>\n",
       "      <td>5008804</td>\n",
       "      <td>M</td>\n",
       "      <td>Y</td>\n",
       "      <td>Y</td>\n",
       "      <td>0</td>\n",
       "      <td>427500.0</td>\n",
       "      <td>Working</td>\n",
       "      <td>Higher education</td>\n",
       "      <td>Civil marriage</td>\n",
       "      <td>Rented apartment</td>\n",
       "      <td>...</td>\n",
       "      <td>1</td>\n",
       "      <td>1</td>\n",
       "      <td>0</td>\n",
       "      <td>0</td>\n",
       "      <td>2.0</td>\n",
       "      <td>-6</td>\n",
       "      <td>C</td>\n",
       "      <td>-15</td>\n",
       "      <td>No</td>\n",
       "      <td>1</td>\n",
       "    </tr>\n",
       "    <tr>\n",
       "      <th>7</th>\n",
       "      <td>5008804</td>\n",
       "      <td>M</td>\n",
       "      <td>Y</td>\n",
       "      <td>Y</td>\n",
       "      <td>0</td>\n",
       "      <td>427500.0</td>\n",
       "      <td>Working</td>\n",
       "      <td>Higher education</td>\n",
       "      <td>Civil marriage</td>\n",
       "      <td>Rented apartment</td>\n",
       "      <td>...</td>\n",
       "      <td>1</td>\n",
       "      <td>1</td>\n",
       "      <td>0</td>\n",
       "      <td>0</td>\n",
       "      <td>2.0</td>\n",
       "      <td>-7</td>\n",
       "      <td>C</td>\n",
       "      <td>-15</td>\n",
       "      <td>No</td>\n",
       "      <td>1</td>\n",
       "    </tr>\n",
       "    <tr>\n",
       "      <th>8</th>\n",
       "      <td>5008804</td>\n",
       "      <td>M</td>\n",
       "      <td>Y</td>\n",
       "      <td>Y</td>\n",
       "      <td>0</td>\n",
       "      <td>427500.0</td>\n",
       "      <td>Working</td>\n",
       "      <td>Higher education</td>\n",
       "      <td>Civil marriage</td>\n",
       "      <td>Rented apartment</td>\n",
       "      <td>...</td>\n",
       "      <td>1</td>\n",
       "      <td>1</td>\n",
       "      <td>0</td>\n",
       "      <td>0</td>\n",
       "      <td>2.0</td>\n",
       "      <td>-8</td>\n",
       "      <td>C</td>\n",
       "      <td>-15</td>\n",
       "      <td>No</td>\n",
       "      <td>1</td>\n",
       "    </tr>\n",
       "    <tr>\n",
       "      <th>9</th>\n",
       "      <td>5008804</td>\n",
       "      <td>M</td>\n",
       "      <td>Y</td>\n",
       "      <td>Y</td>\n",
       "      <td>0</td>\n",
       "      <td>427500.0</td>\n",
       "      <td>Working</td>\n",
       "      <td>Higher education</td>\n",
       "      <td>Civil marriage</td>\n",
       "      <td>Rented apartment</td>\n",
       "      <td>...</td>\n",
       "      <td>1</td>\n",
       "      <td>1</td>\n",
       "      <td>0</td>\n",
       "      <td>0</td>\n",
       "      <td>2.0</td>\n",
       "      <td>-9</td>\n",
       "      <td>C</td>\n",
       "      <td>-15</td>\n",
       "      <td>No</td>\n",
       "      <td>1</td>\n",
       "    </tr>\n",
       "  </tbody>\n",
       "</table>\n",
       "<p>10 rows × 22 columns</p>\n",
       "</div>"
      ],
      "text/plain": [
       "        id gender car realty  child_number    income occupation  \\\n",
       "0  5008804      M   Y      Y             0  427500.0    Working   \n",
       "1  5008804      M   Y      Y             0  427500.0    Working   \n",
       "2  5008804      M   Y      Y             0  427500.0    Working   \n",
       "3  5008804      M   Y      Y             0  427500.0    Working   \n",
       "4  5008804      M   Y      Y             0  427500.0    Working   \n",
       "5  5008804      M   Y      Y             0  427500.0    Working   \n",
       "6  5008804      M   Y      Y             0  427500.0    Working   \n",
       "7  5008804      M   Y      Y             0  427500.0    Working   \n",
       "8  5008804      M   Y      Y             0  427500.0    Working   \n",
       "9  5008804      M   Y      Y             0  427500.0    Working   \n",
       "\n",
       "          education  marital_status        house_type  ...  mobile_phone  \\\n",
       "0  Higher education  Civil marriage  Rented apartment  ...             1   \n",
       "1  Higher education  Civil marriage  Rented apartment  ...             1   \n",
       "2  Higher education  Civil marriage  Rented apartment  ...             1   \n",
       "3  Higher education  Civil marriage  Rented apartment  ...             1   \n",
       "4  Higher education  Civil marriage  Rented apartment  ...             1   \n",
       "5  Higher education  Civil marriage  Rented apartment  ...             1   \n",
       "6  Higher education  Civil marriage  Rented apartment  ...             1   \n",
       "7  Higher education  Civil marriage  Rented apartment  ...             1   \n",
       "8  Higher education  Civil marriage  Rented apartment  ...             1   \n",
       "9  Higher education  Civil marriage  Rented apartment  ...             1   \n",
       "\n",
       "   work_phone  phone  email  family_size  months_balance  status  begin_month  \\\n",
       "0           1      0      0          2.0               0       C          -15   \n",
       "1           1      0      0          2.0              -1       C          -15   \n",
       "2           1      0      0          2.0              -2       C          -15   \n",
       "3           1      0      0          2.0              -3       C          -15   \n",
       "4           1      0      0          2.0              -4       C          -15   \n",
       "5           1      0      0          2.0              -5       C          -15   \n",
       "6           1      0      0          2.0              -6       C          -15   \n",
       "7           1      0      0          2.0              -7       C          -15   \n",
       "8           1      0      0          2.0              -8       C          -15   \n",
       "9           1      0      0          2.0              -9       C          -15   \n",
       "\n",
       "  credit_approval  target  \n",
       "0              No       1  \n",
       "1              No       1  \n",
       "2              No       1  \n",
       "3              No       1  \n",
       "4              No       1  \n",
       "5              No       1  \n",
       "6              No       1  \n",
       "7              No       1  \n",
       "8              No       1  \n",
       "9              No       1  \n",
       "\n",
       "[10 rows x 22 columns]"
      ]
     },
     "execution_count": 3,
     "metadata": {},
     "output_type": "execute_result"
    }
   ],
   "source": [
    "data.head(10)"
   ]
  },
  {
   "cell_type": "code",
   "execution_count": 9,
   "id": "e112e4bb",
   "metadata": {},
   "outputs": [
    {
     "data": {
      "text/html": [
       "<div>\n",
       "<style scoped>\n",
       "    .dataframe tbody tr th:only-of-type {\n",
       "        vertical-align: middle;\n",
       "    }\n",
       "\n",
       "    .dataframe tbody tr th {\n",
       "        vertical-align: top;\n",
       "    }\n",
       "\n",
       "    .dataframe thead th {\n",
       "        text-align: right;\n",
       "    }\n",
       "</style>\n",
       "<table border=\"1\" class=\"dataframe\">\n",
       "  <thead>\n",
       "    <tr style=\"text-align: right;\">\n",
       "      <th></th>\n",
       "      <th>id</th>\n",
       "      <th>child_number</th>\n",
       "      <th>income</th>\n",
       "      <th>days_birth</th>\n",
       "      <th>days_employed</th>\n",
       "      <th>mobile_phone</th>\n",
       "      <th>work_phone</th>\n",
       "      <th>phone</th>\n",
       "      <th>email</th>\n",
       "      <th>family_size</th>\n",
       "      <th>months_balance</th>\n",
       "      <th>begin_month</th>\n",
       "      <th>target</th>\n",
       "    </tr>\n",
       "  </thead>\n",
       "  <tbody>\n",
       "    <tr>\n",
       "      <th>count</th>\n",
       "      <td>7.777150e+05</td>\n",
       "      <td>777715.000000</td>\n",
       "      <td>7.777150e+05</td>\n",
       "      <td>777715.000000</td>\n",
       "      <td>777715.000000</td>\n",
       "      <td>777715.0</td>\n",
       "      <td>777715.000000</td>\n",
       "      <td>777715.000000</td>\n",
       "      <td>777715.000000</td>\n",
       "      <td>777715.000000</td>\n",
       "      <td>777715.000000</td>\n",
       "      <td>777715.000000</td>\n",
       "      <td>777715.000000</td>\n",
       "    </tr>\n",
       "    <tr>\n",
       "      <th>mean</th>\n",
       "      <td>5.078743e+06</td>\n",
       "      <td>0.428082</td>\n",
       "      <td>1.885348e+05</td>\n",
       "      <td>-16124.937046</td>\n",
       "      <td>57775.825016</td>\n",
       "      <td>1.0</td>\n",
       "      <td>0.231818</td>\n",
       "      <td>0.300965</td>\n",
       "      <td>0.091675</td>\n",
       "      <td>2.208837</td>\n",
       "      <td>-19.373564</td>\n",
       "      <td>-34.751485</td>\n",
       "      <td>0.140887</td>\n",
       "    </tr>\n",
       "    <tr>\n",
       "      <th>std</th>\n",
       "      <td>4.180442e+04</td>\n",
       "      <td>0.745755</td>\n",
       "      <td>1.016225e+05</td>\n",
       "      <td>4104.304018</td>\n",
       "      <td>136471.735391</td>\n",
       "      <td>0.0</td>\n",
       "      <td>0.421993</td>\n",
       "      <td>0.458678</td>\n",
       "      <td>0.288567</td>\n",
       "      <td>0.907380</td>\n",
       "      <td>14.082208</td>\n",
       "      <td>15.031056</td>\n",
       "      <td>0.347905</td>\n",
       "    </tr>\n",
       "    <tr>\n",
       "      <th>min</th>\n",
       "      <td>5.008804e+06</td>\n",
       "      <td>0.000000</td>\n",
       "      <td>2.700000e+04</td>\n",
       "      <td>-25152.000000</td>\n",
       "      <td>-15713.000000</td>\n",
       "      <td>1.0</td>\n",
       "      <td>0.000000</td>\n",
       "      <td>0.000000</td>\n",
       "      <td>0.000000</td>\n",
       "      <td>1.000000</td>\n",
       "      <td>-60.000000</td>\n",
       "      <td>-60.000000</td>\n",
       "      <td>0.000000</td>\n",
       "    </tr>\n",
       "    <tr>\n",
       "      <th>25%</th>\n",
       "      <td>5.044568e+06</td>\n",
       "      <td>0.000000</td>\n",
       "      <td>1.215000e+05</td>\n",
       "      <td>-19453.000000</td>\n",
       "      <td>-3292.000000</td>\n",
       "      <td>1.0</td>\n",
       "      <td>0.000000</td>\n",
       "      <td>0.000000</td>\n",
       "      <td>0.000000</td>\n",
       "      <td>2.000000</td>\n",
       "      <td>-29.000000</td>\n",
       "      <td>-47.000000</td>\n",
       "      <td>0.000000</td>\n",
       "    </tr>\n",
       "    <tr>\n",
       "      <th>50%</th>\n",
       "      <td>5.069530e+06</td>\n",
       "      <td>0.000000</td>\n",
       "      <td>1.620000e+05</td>\n",
       "      <td>-15760.000000</td>\n",
       "      <td>-1682.000000</td>\n",
       "      <td>1.0</td>\n",
       "      <td>0.000000</td>\n",
       "      <td>0.000000</td>\n",
       "      <td>0.000000</td>\n",
       "      <td>2.000000</td>\n",
       "      <td>-17.000000</td>\n",
       "      <td>-36.000000</td>\n",
       "      <td>0.000000</td>\n",
       "    </tr>\n",
       "    <tr>\n",
       "      <th>75%</th>\n",
       "      <td>5.115551e+06</td>\n",
       "      <td>1.000000</td>\n",
       "      <td>2.250000e+05</td>\n",
       "      <td>-12716.000000</td>\n",
       "      <td>-431.000000</td>\n",
       "      <td>1.0</td>\n",
       "      <td>0.000000</td>\n",
       "      <td>1.000000</td>\n",
       "      <td>0.000000</td>\n",
       "      <td>3.000000</td>\n",
       "      <td>-8.000000</td>\n",
       "      <td>-23.000000</td>\n",
       "      <td>0.000000</td>\n",
       "    </tr>\n",
       "    <tr>\n",
       "      <th>max</th>\n",
       "      <td>5.150487e+06</td>\n",
       "      <td>19.000000</td>\n",
       "      <td>1.575000e+06</td>\n",
       "      <td>-7489.000000</td>\n",
       "      <td>365243.000000</td>\n",
       "      <td>1.0</td>\n",
       "      <td>1.000000</td>\n",
       "      <td>1.000000</td>\n",
       "      <td>1.000000</td>\n",
       "      <td>20.000000</td>\n",
       "      <td>0.000000</td>\n",
       "      <td>0.000000</td>\n",
       "      <td>1.000000</td>\n",
       "    </tr>\n",
       "  </tbody>\n",
       "</table>\n",
       "</div>"
      ],
      "text/plain": [
       "                 id   child_number        income     days_birth  \\\n",
       "count  7.777150e+05  777715.000000  7.777150e+05  777715.000000   \n",
       "mean   5.078743e+06       0.428082  1.885348e+05  -16124.937046   \n",
       "std    4.180442e+04       0.745755  1.016225e+05    4104.304018   \n",
       "min    5.008804e+06       0.000000  2.700000e+04  -25152.000000   \n",
       "25%    5.044568e+06       0.000000  1.215000e+05  -19453.000000   \n",
       "50%    5.069530e+06       0.000000  1.620000e+05  -15760.000000   \n",
       "75%    5.115551e+06       1.000000  2.250000e+05  -12716.000000   \n",
       "max    5.150487e+06      19.000000  1.575000e+06   -7489.000000   \n",
       "\n",
       "       days_employed  mobile_phone     work_phone          phone  \\\n",
       "count  777715.000000      777715.0  777715.000000  777715.000000   \n",
       "mean    57775.825016           1.0       0.231818       0.300965   \n",
       "std    136471.735391           0.0       0.421993       0.458678   \n",
       "min    -15713.000000           1.0       0.000000       0.000000   \n",
       "25%     -3292.000000           1.0       0.000000       0.000000   \n",
       "50%     -1682.000000           1.0       0.000000       0.000000   \n",
       "75%      -431.000000           1.0       0.000000       1.000000   \n",
       "max    365243.000000           1.0       1.000000       1.000000   \n",
       "\n",
       "               email    family_size  months_balance    begin_month  \\\n",
       "count  777715.000000  777715.000000   777715.000000  777715.000000   \n",
       "mean        0.091675       2.208837      -19.373564     -34.751485   \n",
       "std         0.288567       0.907380       14.082208      15.031056   \n",
       "min         0.000000       1.000000      -60.000000     -60.000000   \n",
       "25%         0.000000       2.000000      -29.000000     -47.000000   \n",
       "50%         0.000000       2.000000      -17.000000     -36.000000   \n",
       "75%         0.000000       3.000000       -8.000000     -23.000000   \n",
       "max         1.000000      20.000000        0.000000       0.000000   \n",
       "\n",
       "              target  \n",
       "count  777715.000000  \n",
       "mean        0.140887  \n",
       "std         0.347905  \n",
       "min         0.000000  \n",
       "25%         0.000000  \n",
       "50%         0.000000  \n",
       "75%         0.000000  \n",
       "max         1.000000  "
      ]
     },
     "execution_count": 9,
     "metadata": {},
     "output_type": "execute_result"
    }
   ],
   "source": [
    "data.describe()"
   ]
  },
  {
   "cell_type": "code",
   "execution_count": 4,
   "id": "19ea117a",
   "metadata": {},
   "outputs": [
    {
     "name": "stdout",
     "output_type": "stream",
     "text": [
      "Index(['id', 'gender', 'car', 'realty', 'child_number', 'income', 'occupation',\n",
      "       'education', 'marital_status', 'house_type', 'days_birth',\n",
      "       'days_employed', 'mobile_phone', 'work_phone', 'phone', 'email',\n",
      "       'family_size', 'months_balance', 'status', 'begin_month',\n",
      "       'credit_approval', 'target'],\n",
      "      dtype='object')\n"
     ]
    }
   ],
   "source": [
    "print(data.columns)"
   ]
  },
  {
   "cell_type": "code",
   "execution_count": 5,
   "id": "4fdef7e7",
   "metadata": {},
   "outputs": [
    {
     "name": "stdout",
     "output_type": "stream",
     "text": [
      "<class 'pandas.core.frame.DataFrame'>\n",
      "RangeIndex: 777715 entries, 0 to 777714\n",
      "Data columns (total 22 columns):\n",
      " #   Column           Non-Null Count   Dtype  \n",
      "---  ------           --------------   -----  \n",
      " 0   id               777715 non-null  int64  \n",
      " 1   gender           777715 non-null  object \n",
      " 2   car              777715 non-null  object \n",
      " 3   realty           777715 non-null  object \n",
      " 4   child_number     777715 non-null  int64  \n",
      " 5   income           777715 non-null  float64\n",
      " 6   occupation       777715 non-null  object \n",
      " 7   education        777715 non-null  object \n",
      " 8   marital_status   777715 non-null  object \n",
      " 9   house_type       777715 non-null  object \n",
      " 10  days_birth       777715 non-null  int64  \n",
      " 11  days_employed    777715 non-null  int64  \n",
      " 12  mobile_phone     777715 non-null  int64  \n",
      " 13  work_phone       777715 non-null  int64  \n",
      " 14  phone            777715 non-null  int64  \n",
      " 15  email            777715 non-null  int64  \n",
      " 16  family_size      777715 non-null  float64\n",
      " 17  months_balance   777715 non-null  int64  \n",
      " 18  status           777715 non-null  object \n",
      " 19  begin_month      777715 non-null  int64  \n",
      " 20  credit_approval  777715 non-null  object \n",
      " 21  target           777715 non-null  int64  \n",
      "dtypes: float64(2), int64(11), object(9)\n",
      "memory usage: 130.5+ MB\n"
     ]
    }
   ],
   "source": [
    "data.info()"
   ]
  },
  {
   "cell_type": "markdown",
   "id": "424fac2c",
   "metadata": {},
   "source": [
    "## Approved vs Declined Credit Applications"
   ]
  },
  {
   "cell_type": "code",
   "execution_count": null,
   "id": "0f2f4e30",
   "metadata": {},
   "outputs": [
    {
     "name": "stderr",
     "output_type": "stream",
     "text": [
      "C:\\Users\\Matthew FD\\AppData\\Local\\Temp\\ipykernel_35472\\3502665516.py:4: FutureWarning: \n",
      "\n",
      "Passing `palette` without assigning `hue` is deprecated and will be removed in v0.14.0. Assign the `x` variable to `hue` and set `legend=False` for the same effect.\n",
      "\n",
      "  sns.countplot(x = \"credit_approval\", data = data, palette = \"Set2\")\n"
     ]
    },
    {
     "data": {
      "image/png": "[encoded data removed]",
      "text/plain": [
       "<Figure size 600x400 with 1 Axes>"
      ]
     },
     "metadata": {},
     "output_type": "display_data"
    }
   ],
   "source": [
    "Credit_Approval = data[\"credit_approval\"].value_counts()\n",
    "\n",
    "plt.figure(figsize = (6,4))\n",
    "sns.countplot(x = \"credit_approval\", data = data, palette = \"Set2\")\n",
    "plt.title(\"Distribution of Credit Approval\")\n",
    "plt.xlabel(\"Credit Approval Status\")\n",
    "plt.ylabel(\"Number of Applicants\")\n",
    "plt.tight_layout()\n",
    "plt.show()"
   ]
  },
  {
   "cell_type": "markdown",
   "id": "1509593c",
   "metadata": {},
   "source": [
    "## Approval by Age"
   ]
  },
  {
   "cell_type": "code",
   "execution_count": 12,
   "id": "feed20da",
   "metadata": {},
   "outputs": [
    {
     "data": {
      "application/vnd.microsoft.datawrangler.viewer.v0+json": {
       "columns": [
        {
         "name": "index",
         "rawType": "int64",
         "type": "integer"
        },
        {
         "name": "age",
         "rawType": "int64",
         "type": "integer"
        }
       ],
       "ref": "fccc23cc-fea6-4865-b354-4f72c8279520",
       "rows": [
        [
         "0",
         "32"
        ],
        [
         "1",
         "32"
        ],
        [
         "2",
         "32"
        ],
        [
         "3",
         "32"
        ],
        [
         "4",
         "32"
        ],
        [
         "5",
         "32"
        ],
        [
         "6",
         "32"
        ],
        [
         "7",
         "32"
        ],
        [
         "8",
         "32"
        ],
        [
         "9",
         "32"
        ],
        [
         "10",
         "32"
        ],
        [
         "11",
         "32"
        ],
        [
         "12",
         "32"
        ],
        [
         "13",
         "32"
        ],
        [
         "14",
         "32"
        ],
        [
         "15",
         "32"
        ],
        [
         "16",
         "32"
        ],
        [
         "17",
         "32"
        ],
        [
         "18",
         "32"
        ],
        [
         "19",
         "32"
        ],
        [
         "20",
         "32"
        ],
        [
         "21",
         "32"
        ],
        [
         "22",
         "32"
        ],
        [
         "23",
         "32"
        ],
        [
         "24",
         "32"
        ],
        [
         "25",
         "32"
        ],
        [
         "26",
         "32"
        ],
        [
         "27",
         "32"
        ],
        [
         "28",
         "32"
        ],
        [
         "29",
         "32"
        ],
        [
         "30",
         "32"
        ],
        [
         "31",
         "58"
        ],
        [
         "32",
         "58"
        ],
        [
         "33",
         "58"
        ],
        [
         "34",
         "58"
        ],
        [
         "35",
         "58"
        ],
        [
         "36",
         "58"
        ],
        [
         "37",
         "58"
        ],
        [
         "38",
         "58"
        ],
        [
         "39",
         "58"
        ],
        [
         "40",
         "58"
        ],
        [
         "41",
         "58"
        ],
        [
         "42",
         "58"
        ],
        [
         "43",
         "58"
        ],
        [
         "44",
         "58"
        ],
        [
         "45",
         "58"
        ],
        [
         "46",
         "58"
        ],
        [
         "47",
         "58"
        ],
        [
         "48",
         "58"
        ],
        [
         "49",
         "58"
        ]
       ],
       "shape": {
        "columns": 1,
        "rows": 777715
       }
      },
      "text/plain": [
       "0         32\n",
       "1         32\n",
       "2         32\n",
       "3         32\n",
       "4         32\n",
       "          ..\n",
       "777710    25\n",
       "777711    25\n",
       "777712    25\n",
       "777713    25\n",
       "777714    25\n",
       "Name: age, Length: 777715, dtype: int64"
      ]
     },
     "metadata": {},
     "output_type": "display_data"
    }
   ],
   "source": [
    "data[\"age\"] = (-data[\"days_birth\"]) // 365\n",
    "\n",
    "display(data[\"age\"])"
   ]
  },
  {
   "cell_type": "code",
   "execution_count": 19,
   "id": "d6f3a506",
   "metadata": {},
   "outputs": [
    {
     "name": "stderr",
     "output_type": "stream",
     "text": [
      "C:\\Users\\Matthew FD\\AppData\\Local\\Temp\\ipykernel_35472\\1052064479.py:2: FutureWarning: \n",
      "\n",
      "The `ci` parameter is deprecated. Use `errorbar=None` for the same effect.\n",
      "\n",
      "  sns.barplot(x='credit_approval', y='age', data=data, estimator='mean', ci=None, palette='Set2')\n",
      "C:\\Users\\Matthew FD\\AppData\\Local\\Temp\\ipykernel_35472\\1052064479.py:2: FutureWarning: \n",
      "\n",
      "Passing `palette` without assigning `hue` is deprecated and will be removed in v0.14.0. Assign the `x` variable to `hue` and set `legend=False` for the same effect.\n",
      "\n",
      "  sns.barplot(x='credit_approval', y='age', data=data, estimator='mean', ci=None, palette='Set2')\n"
     ]
    },
    {
     "data": {
      "image/png": "[encoded data removed]",
      "text/plain": [
       "<Figure size 600x400 with 1 Axes>"
      ]
     },
     "metadata": {},
     "output_type": "display_data"
    }
   ],
   "source": [
    "plt.figure(figsize=(6, 4))\n",
    "sns.barplot(x='credit_approval', y='age', data=data, estimator='mean', ci=None, palette='Set2')\n",
    "\n",
    "plt.title('Average Age by Credit Approval')\n",
    "plt.xlabel('Credit Approval Status')\n",
    "plt.ylabel('Average Age')\n",
    "plt.tight_layout()\n",
    "plt.show()"
   ]
  },
  {
   "cell_type": "markdown",
   "id": "fd59a88f",
   "metadata": {},
   "source": [
    "Years Employed vs Credit Approval Status"
   ]
  },
  {
   "cell_type": "code",
   "execution_count": 20,
   "id": "416bde38",
   "metadata": {},
   "outputs": [],
   "source": [
    "data['years_employed'] = data['days_employed'].apply(lambda x: 0 if x == 365243 else -x // 365)"
   ]
  },
  {
   "cell_type": "code",
   "execution_count": 21,
   "id": "83ad73c6",
   "metadata": {},
   "outputs": [
    {
     "name": "stderr",
     "output_type": "stream",
     "text": [
      "C:\\Users\\Matthew FD\\AppData\\Local\\Temp\\ipykernel_35472\\629398948.py:2: FutureWarning: \n",
      "\n",
      "The `ci` parameter is deprecated. Use `errorbar=None` for the same effect.\n",
      "\n",
      "  sns.barplot(x='credit_approval', y='years_employed', data=data, estimator='mean', ci=None, palette='Set2')\n",
      "C:\\Users\\Matthew FD\\AppData\\Local\\Temp\\ipykernel_35472\\629398948.py:2: FutureWarning: \n",
      "\n",
      "Passing `palette` without assigning `hue` is deprecated and will be removed in v0.14.0. Assign the `x` variable to `hue` and set `legend=False` for the same effect.\n",
      "\n",
      "  sns.barplot(x='credit_approval', y='years_employed', data=data, estimator='mean', ci=None, palette='Set2')\n"
     ]
    },
    {
     "data": {
      "image/png": "[encoded data removed]",
      "text/plain": [
       "<Figure size 600x400 with 1 Axes>"
      ]
     },
     "metadata": {},
     "output_type": "display_data"
    }
   ],
   "source": [
    "plt.figure(figsize=(6, 4))\n",
    "sns.barplot(x='credit_approval', y='years_employed', data=data, estimator='mean', ci=None, palette='Set2')\n",
    "plt.title('Average Years Employed by Credit Approval')\n",
    "plt.xlabel('Credit Approval')\n",
    "plt.ylabel('Years Employed')\n",
    "plt.tight_layout()\n",
    "plt.show()"
   ]
  },
  {
   "cell_type": "markdown",
   "id": "07d2231a",
   "metadata": {},
   "source": [
    "Car Ownership / House Ownership vs Credit Approval"
   ]
  },
  {
   "cell_type": "code",
   "execution_count": 24,
   "id": "89361b58",
   "metadata": {},
   "outputs": [
    {
     "name": "stdout",
     "output_type": "stream",
     "text": [
      "car\n",
      "N    473355\n",
      "Y    304360\n",
      "Name: count, dtype: int64\n",
      "realty\n",
      "Y    512948\n",
      "N    264767\n",
      "Name: count, dtype: int64\n"
     ]
    }
   ],
   "source": [
    "print(data['car'].value_counts())\n",
    "print(data['realty'].value_counts())"
   ]
  },
  {
   "cell_type": "code",
   "execution_count": 25,
   "id": "133a041e",
   "metadata": {},
   "outputs": [
    {
     "name": "stdout",
     "output_type": "stream",
     "text": [
      "Approval rates by car ownership:\n",
      " credit_approval        No       Yes\n",
      "car                                \n",
      "N                0.144099  0.855901\n",
      "Y                0.135892  0.864108\n"
     ]
    }
   ],
   "source": [
    "car_approval = data.groupby('car')['credit_approval'].value_counts(normalize=True).unstack()\n",
    "print(\"Approval rates by car ownership:\\n\", car_approval)"
   ]
  },
  {
   "cell_type": "code",
   "execution_count": 26,
   "id": "6bcbc598",
   "metadata": {},
   "outputs": [
    {
     "name": "stdout",
     "output_type": "stream",
     "text": [
      "Approval rates by realty ownership:\n",
      " credit_approval        No       Yes\n",
      "realty                             \n",
      "N                0.155824  0.844176\n",
      "Y                0.133177  0.866823\n"
     ]
    }
   ],
   "source": [
    "realty_approval = data.groupby('realty')['credit_approval'].value_counts(normalize=True).unstack()\n",
    "print(\"Approval rates by realty ownership:\\n\", realty_approval)"
   ]
  },
  {
   "cell_type": "code",
   "execution_count": 30,
   "id": "9ea16e2e",
   "metadata": {},
   "outputs": [
    {
     "data": {
      "image/png": "[encoded data removed]",
      "text/plain": [
       "<Figure size 640x480 with 1 Axes>"
      ]
     },
     "metadata": {},
     "output_type": "display_data"
    }
   ],
   "source": [
    "car_approval[\"Yes\"].plot(kind='bar', color='green')\n",
    "plt.title('Approval Rate by Car Ownership')\n",
    "plt.xlabel('Owns a Car')\n",
    "plt.ylabel('Approval Rate')\n",
    "plt.xticks(rotation=0)\n",
    "plt.ylim(0, 1)\n",
    "plt.tight_layout()\n",
    "plt.show()"
   ]
  },
  {
   "cell_type": "code",
   "execution_count": 31,
   "id": "21b9e598",
   "metadata": {},
   "outputs": [
    {
     "data": {
      "image/png": "[encoded data removed]",
      "text/plain": [
       "<Figure size 640x480 with 1 Axes>"
      ]
     },
     "metadata": {},
     "output_type": "display_data"
    }
   ],
   "source": [
    "realty_approval[\"Yes\"].plot(kind='bar', color='blue')\n",
    "plt.title('Approval Rate by Realty Ownership')\n",
    "plt.xlabel('Owns Real Estate')\n",
    "plt.ylabel('Approval Rate')\n",
    "plt.xticks(rotation=0)\n",
    "plt.ylim(0, 1)\n",
    "plt.tight_layout()\n",
    "plt.show()"
   ]
  },
  {
   "cell_type": "markdown",
   "id": "869685b0",
   "metadata": {},
   "source": [
    "## Occupation vs Credit Acceptance"
   ]
  },
  {
   "cell_type": "code",
   "execution_count": 32,
   "id": "5a75e8e8",
   "metadata": {},
   "outputs": [
    {
     "name": "stdout",
     "output_type": "stream",
     "text": [
      "[1 0]\n",
      "['Working' 'Commercial associate' 'Pensioner' 'State servant' 'Student']\n"
     ]
    }
   ],
   "source": [
    "print(data['target'].unique())\n",
    "print(data['occupation'].unique())"
   ]
  },
  {
   "cell_type": "code",
   "execution_count": 33,
   "id": "2fca341d",
   "metadata": {},
   "outputs": [
    {
     "name": "stdout",
     "output_type": "stream",
     "text": [
      "occupation\n",
      "Student                 0.044510\n",
      "Pensioner               0.127586\n",
      "Working                 0.140462\n",
      "State servant           0.145850\n",
      "Commercial associate    0.149532\n",
      "Name: target, dtype: float64\n"
     ]
    }
   ],
   "source": [
    "default_rates = data.groupby('occupation')['target'].mean().sort_values()\n",
    "print(default_rates)"
   ]
  },
  {
   "cell_type": "code",
   "execution_count": 34,
   "id": "4c56f7ca",
   "metadata": {},
   "outputs": [
    {
     "name": "stderr",
     "output_type": "stream",
     "text": [
      "C:\\Users\\Matthew FD\\AppData\\Local\\Temp\\ipykernel_35472\\1184938742.py:2: FutureWarning: \n",
      "\n",
      "Passing `palette` without assigning `hue` is deprecated and will be removed in v0.14.0. Assign the `y` variable to `hue` and set `legend=False` for the same effect.\n",
      "\n",
      "  sns.barplot(x=default_rates.values, y=default_rates.index, palette='coolwarm')\n"
     ]
    },
    {
     "data": {
      "image/png": "[encoded data removed]",
      "text/plain": [
       "<Figure size 1000x500 with 1 Axes>"
      ]
     },
     "metadata": {},
     "output_type": "display_data"
    }
   ],
   "source": [
    "plt.figure(figsize=(10, 5))\n",
    "sns.barplot(x=default_rates.values, y=default_rates.index, palette='coolwarm')\n",
    "plt.title('Default Risk by Occupation Type')\n",
    "plt.xlabel('Average Default Rate (target)')\n",
    "plt.ylabel('Occupation')\n",
    "plt.tight_layout()\n",
    "plt.show()"
   ]
  },
  {
   "cell_type": "code",
   "execution_count": 36,
   "id": "d449859a",
   "metadata": {},
   "outputs": [
    {
     "name": "stdout",
     "output_type": "stream",
     "text": [
      "                          mean   count\n",
      "occupation                            \n",
      "Student               0.044510     337\n",
      "Pensioner             0.127586  128392\n",
      "Working               0.140462  400164\n",
      "State servant         0.145850   65437\n",
      "Commercial associate  0.149532  183385\n"
     ]
    }
   ],
   "source": [
    "occupation_counts = data['occupation'].value_counts()\n",
    "summary = data.groupby('occupation')['target'].agg(['mean', 'count']).sort_values(by='mean')\n",
    "print(summary)"
   ]
  }
 ],
 "metadata": {
  "kernelspec": {
   "display_name": "h8_env",
   "language": "python",
   "name": "python3"
  },
  "language_info": {
   "codemirror_mode": {
    "name": "ipython",
    "version": 3
   },
   "file_extension": ".py",
   "mimetype": "text/x-python",
   "name": "python",
   "nbconvert_exporter": "python",
   "pygments_lexer": "ipython3",
   "version": "3.9.23"
  }
 },
 "nbformat": 4,
 "nbformat_minor": 5
}
